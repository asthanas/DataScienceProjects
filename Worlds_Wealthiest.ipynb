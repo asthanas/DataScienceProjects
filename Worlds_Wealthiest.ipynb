{
  "nbformat": 4,
  "nbformat_minor": 0,
  "metadata": {
    "kernelspec": {
      "language": "python",
      "display_name": "Python 3",
      "name": "python3"
    },
    "language_info": {
      "pygments_lexer": "ipython3",
      "nbconvert_exporter": "python",
      "version": "3.6.4",
      "file_extension": ".py",
      "codemirror_mode": {
        "name": "ipython",
        "version": 3
      },
      "name": "python",
      "mimetype": "text/x-python"
    },
    "colab": {
      "name": "Worlds Wealthiest.ipynb",
      "provenance": [],
      "include_colab_link": true
    }
  },
  "cells": [
    {
      "cell_type": "markdown",
      "metadata": {
        "id": "view-in-github",
        "colab_type": "text"
      },
      "source": [
        "<a href=\"https://colab.research.google.com/github/asthanas/DataScienceProjects/blob/master/Worlds_Wealthiest.ipynb\" target=\"_parent\"><img src=\"https://colab.research.google.com/assets/colab-badge.svg\" alt=\"Open In Colab\"/></a>"
      ]
    },
    {
      "cell_type": "markdown",
      "metadata": {
        "id": "Gmr0UyllOH7B",
        "colab_type": "text"
      },
      "source": [
        "# **World's Wealthiest - Descriptive Statistics**\n",
        "\n",
        "The World's Billionaires is an annual ranking by documented net worth of the world's wealthiest billionaires compiled and published in March annually by the American business magazine Forbes. The list was first published in March 1987. The total net worth of each individual on the list is estimated and is cited in United States dollars, based on their documented assets and accounting for debt. Royalty and dictators whose wealth comes from their positions are excluded from these lists. This ranking is an index of the wealthiest documented individuals, excluding and ranking against those with wealth that is not able to be completely ascertained. (wikipedia)\n",
        "\n",
        "The dataset has following features:\n",
        " - Year\n",
        " - Rank\n",
        " - Name\n",
        " - Net_Worth\n",
        " - Age\n",
        " - Nationality\n",
        " - Source_wealth"
      ]
    },
    {
      "cell_type": "markdown",
      "metadata": {
        "id": "ogFP5FmIOH7D",
        "colab_type": "text"
      },
      "source": [
        "**Objective**: Perform descriptive analytics to understand what data tells us about the world's wealthiest"
      ]
    },
    {
      "cell_type": "code",
      "metadata": {
        "_uuid": "d629ff2d2480ee46fbb7e2d37f6b5fab8052498a",
        "_cell_guid": "79c7e3d0-c299-4dcb-8224-4455121ee9b0",
        "trusted": true,
        "id": "bm9gOQzXOH7E",
        "colab_type": "code",
        "colab": {}
      },
      "source": [
        "import numpy as np\n",
        "import pandas as pd\n",
        "import scipy\n",
        "from scipy import stats\n",
        "import matplotlib\n",
        "import matplotlib.pyplot as plt\n",
        "import seaborn as sns\n",
        "import warnings\n",
        "warnings.filterwarnings('ignore')\n",
        "pd.set_option('display.max_columns',25)"
      ],
      "execution_count": 0,
      "outputs": []
    },
    {
      "cell_type": "markdown",
      "metadata": {
        "id": "N2RInJBFOH7L",
        "colab_type": "text"
      },
      "source": [
        "Read input file billionaires.csv"
      ]
    },
    {
      "cell_type": "code",
      "metadata": {
        "trusted": true,
        "id": "8MLO72miOH7M",
        "colab_type": "code",
        "colab": {}
      },
      "source": [
        "data=pd.read_csv(\"billionaires.csv\")"
      ],
      "execution_count": 0,
      "outputs": []
    },
    {
      "cell_type": "markdown",
      "metadata": {
        "id": "Awz8vD85OH7P",
        "colab_type": "text"
      },
      "source": [
        "**Read top 10 values from the csv file**"
      ]
    },
    {
      "cell_type": "code",
      "metadata": {
        "trusted": true,
        "id": "ygz9eCM6OH7Q",
        "colab_type": "code",
        "outputId": "769a845c-059a-4a99-cf97-338b5ac9f067",
        "colab": {
          "base_uri": "https://localhost:8080/",
          "height": 359
        }
      },
      "source": [
        "data.head(10)"
      ],
      "execution_count": 115,
      "outputs": [
        {
          "output_type": "execute_result",
          "data": {
            "text/html": [
              "<div>\n",
              "<style scoped>\n",
              "    .dataframe tbody tr th:only-of-type {\n",
              "        vertical-align: middle;\n",
              "    }\n",
              "\n",
              "    .dataframe tbody tr th {\n",
              "        vertical-align: top;\n",
              "    }\n",
              "\n",
              "    .dataframe thead th {\n",
              "        text-align: right;\n",
              "    }\n",
              "</style>\n",
              "<table border=\"1\" class=\"dataframe\">\n",
              "  <thead>\n",
              "    <tr style=\"text-align: right;\">\n",
              "      <th></th>\n",
              "      <th>year</th>\n",
              "      <th>rank</th>\n",
              "      <th>name</th>\n",
              "      <th>net_worth</th>\n",
              "      <th>age</th>\n",
              "      <th>natinality</th>\n",
              "      <th>source_wealth</th>\n",
              "    </tr>\n",
              "  </thead>\n",
              "  <tbody>\n",
              "    <tr>\n",
              "      <th>0</th>\n",
              "      <td>2019</td>\n",
              "      <td>1</td>\n",
              "      <td>Jeff Bezos</td>\n",
              "      <td>131</td>\n",
              "      <td>55</td>\n",
              "      <td>United States</td>\n",
              "      <td>Amazon</td>\n",
              "    </tr>\n",
              "    <tr>\n",
              "      <th>1</th>\n",
              "      <td>2019</td>\n",
              "      <td>2</td>\n",
              "      <td>Bill Gates</td>\n",
              "      <td>96.5</td>\n",
              "      <td>63</td>\n",
              "      <td>United States</td>\n",
              "      <td>Microsoft</td>\n",
              "    </tr>\n",
              "    <tr>\n",
              "      <th>2</th>\n",
              "      <td>2019</td>\n",
              "      <td>3</td>\n",
              "      <td>Warren Buffett</td>\n",
              "      <td>82.5</td>\n",
              "      <td>88</td>\n",
              "      <td>United States</td>\n",
              "      <td>Berkshire Hathaway</td>\n",
              "    </tr>\n",
              "    <tr>\n",
              "      <th>3</th>\n",
              "      <td>2019</td>\n",
              "      <td>4</td>\n",
              "      <td>Bernard Arnault</td>\n",
              "      <td>76</td>\n",
              "      <td>70</td>\n",
              "      <td>France</td>\n",
              "      <td>LVMH</td>\n",
              "    </tr>\n",
              "    <tr>\n",
              "      <th>4</th>\n",
              "      <td>2019</td>\n",
              "      <td>5</td>\n",
              "      <td>Carlos Slim</td>\n",
              "      <td>64</td>\n",
              "      <td>79</td>\n",
              "      <td>Mexico</td>\n",
              "      <td>América Móvil, Grupo Carso</td>\n",
              "    </tr>\n",
              "    <tr>\n",
              "      <th>5</th>\n",
              "      <td>2019</td>\n",
              "      <td>6</td>\n",
              "      <td>Amancio Ortega</td>\n",
              "      <td>62.7</td>\n",
              "      <td>82</td>\n",
              "      <td>Spain</td>\n",
              "      <td>Inditex, Zara</td>\n",
              "    </tr>\n",
              "    <tr>\n",
              "      <th>6</th>\n",
              "      <td>2019</td>\n",
              "      <td>7</td>\n",
              "      <td>Larry Ellison</td>\n",
              "      <td>62.5</td>\n",
              "      <td>74</td>\n",
              "      <td>United States</td>\n",
              "      <td>Oracle Corporation</td>\n",
              "    </tr>\n",
              "    <tr>\n",
              "      <th>7</th>\n",
              "      <td>2019</td>\n",
              "      <td>8</td>\n",
              "      <td>Mark Zuckerberg</td>\n",
              "      <td>62.3</td>\n",
              "      <td>34</td>\n",
              "      <td>United States</td>\n",
              "      <td>Facebook</td>\n",
              "    </tr>\n",
              "    <tr>\n",
              "      <th>8</th>\n",
              "      <td>2019</td>\n",
              "      <td>9</td>\n",
              "      <td>Michael Bloomberg</td>\n",
              "      <td>55.5</td>\n",
              "      <td>77</td>\n",
              "      <td>United States</td>\n",
              "      <td>Bloomberg L.P.</td>\n",
              "    </tr>\n",
              "    <tr>\n",
              "      <th>9</th>\n",
              "      <td>2019</td>\n",
              "      <td>10</td>\n",
              "      <td>Larry Page</td>\n",
              "      <td>50.8</td>\n",
              "      <td>45</td>\n",
              "      <td>United States</td>\n",
              "      <td>Alphabet Inc.</td>\n",
              "    </tr>\n",
              "  </tbody>\n",
              "</table>\n",
              "</div>"
            ],
            "text/plain": [
              "   year  rank               name net_worth  age     natinality  \\\n",
              "0  2019     1         Jeff Bezos      131    55  United States   \n",
              "1  2019     2         Bill Gates      96.5   63  United States   \n",
              "2  2019     3     Warren Buffett      82.5   88  United States   \n",
              "3  2019     4    Bernard Arnault       76    70         France   \n",
              "4  2019     5        Carlos Slim       64    79         Mexico   \n",
              "5  2019     6     Amancio Ortega      62.7   82          Spain   \n",
              "6  2019     7      Larry Ellison      62.5   74  United States   \n",
              "7  2019     8    Mark Zuckerberg      62.3   34  United States   \n",
              "8  2019     9  Michael Bloomberg      55.5   77  United States   \n",
              "9  2019    10         Larry Page      50.8   45  United States   \n",
              "\n",
              "                source_wealth  \n",
              "0                      Amazon  \n",
              "1                   Microsoft  \n",
              "2          Berkshire Hathaway  \n",
              "3                        LVMH  \n",
              "4  América Móvil, Grupo Carso  \n",
              "5               Inditex, Zara  \n",
              "6          Oracle Corporation  \n",
              "7                    Facebook  \n",
              "8              Bloomberg L.P.  \n",
              "9               Alphabet Inc.  "
            ]
          },
          "metadata": {
            "tags": []
          },
          "execution_count": 115
        }
      ]
    },
    {
      "cell_type": "markdown",
      "metadata": {
        "id": "Qg3rbbTgOH7U",
        "colab_type": "text"
      },
      "source": [
        "Correct the column name from \"natinality\" to \"nationality\""
      ]
    },
    {
      "cell_type": "code",
      "metadata": {
        "trusted": true,
        "id": "P43z_gtZOH7U",
        "colab_type": "code",
        "colab": {}
      },
      "source": [
        "data.rename(columns = {'natinality':'nationality'}, inplace = True)"
      ],
      "execution_count": 0,
      "outputs": []
    },
    {
      "cell_type": "code",
      "metadata": {
        "trusted": true,
        "id": "ewlHP5KbOH7X",
        "colab_type": "code",
        "outputId": "3c2fd66d-32c4-4623-9ad0-d356c84e556e",
        "colab": {
          "base_uri": "https://localhost:8080/",
          "height": 669
        }
      },
      "source": [
        "data.head(20)"
      ],
      "execution_count": 117,
      "outputs": [
        {
          "output_type": "execute_result",
          "data": {
            "text/html": [
              "<div>\n",
              "<style scoped>\n",
              "    .dataframe tbody tr th:only-of-type {\n",
              "        vertical-align: middle;\n",
              "    }\n",
              "\n",
              "    .dataframe tbody tr th {\n",
              "        vertical-align: top;\n",
              "    }\n",
              "\n",
              "    .dataframe thead th {\n",
              "        text-align: right;\n",
              "    }\n",
              "</style>\n",
              "<table border=\"1\" class=\"dataframe\">\n",
              "  <thead>\n",
              "    <tr style=\"text-align: right;\">\n",
              "      <th></th>\n",
              "      <th>year</th>\n",
              "      <th>rank</th>\n",
              "      <th>name</th>\n",
              "      <th>net_worth</th>\n",
              "      <th>age</th>\n",
              "      <th>nationality</th>\n",
              "      <th>source_wealth</th>\n",
              "    </tr>\n",
              "  </thead>\n",
              "  <tbody>\n",
              "    <tr>\n",
              "      <th>0</th>\n",
              "      <td>2019</td>\n",
              "      <td>1</td>\n",
              "      <td>Jeff Bezos</td>\n",
              "      <td>131</td>\n",
              "      <td>55</td>\n",
              "      <td>United States</td>\n",
              "      <td>Amazon</td>\n",
              "    </tr>\n",
              "    <tr>\n",
              "      <th>1</th>\n",
              "      <td>2019</td>\n",
              "      <td>2</td>\n",
              "      <td>Bill Gates</td>\n",
              "      <td>96.5</td>\n",
              "      <td>63</td>\n",
              "      <td>United States</td>\n",
              "      <td>Microsoft</td>\n",
              "    </tr>\n",
              "    <tr>\n",
              "      <th>2</th>\n",
              "      <td>2019</td>\n",
              "      <td>3</td>\n",
              "      <td>Warren Buffett</td>\n",
              "      <td>82.5</td>\n",
              "      <td>88</td>\n",
              "      <td>United States</td>\n",
              "      <td>Berkshire Hathaway</td>\n",
              "    </tr>\n",
              "    <tr>\n",
              "      <th>3</th>\n",
              "      <td>2019</td>\n",
              "      <td>4</td>\n",
              "      <td>Bernard Arnault</td>\n",
              "      <td>76</td>\n",
              "      <td>70</td>\n",
              "      <td>France</td>\n",
              "      <td>LVMH</td>\n",
              "    </tr>\n",
              "    <tr>\n",
              "      <th>4</th>\n",
              "      <td>2019</td>\n",
              "      <td>5</td>\n",
              "      <td>Carlos Slim</td>\n",
              "      <td>64</td>\n",
              "      <td>79</td>\n",
              "      <td>Mexico</td>\n",
              "      <td>América Móvil, Grupo Carso</td>\n",
              "    </tr>\n",
              "    <tr>\n",
              "      <th>5</th>\n",
              "      <td>2019</td>\n",
              "      <td>6</td>\n",
              "      <td>Amancio Ortega</td>\n",
              "      <td>62.7</td>\n",
              "      <td>82</td>\n",
              "      <td>Spain</td>\n",
              "      <td>Inditex, Zara</td>\n",
              "    </tr>\n",
              "    <tr>\n",
              "      <th>6</th>\n",
              "      <td>2019</td>\n",
              "      <td>7</td>\n",
              "      <td>Larry Ellison</td>\n",
              "      <td>62.5</td>\n",
              "      <td>74</td>\n",
              "      <td>United States</td>\n",
              "      <td>Oracle Corporation</td>\n",
              "    </tr>\n",
              "    <tr>\n",
              "      <th>7</th>\n",
              "      <td>2019</td>\n",
              "      <td>8</td>\n",
              "      <td>Mark Zuckerberg</td>\n",
              "      <td>62.3</td>\n",
              "      <td>34</td>\n",
              "      <td>United States</td>\n",
              "      <td>Facebook</td>\n",
              "    </tr>\n",
              "    <tr>\n",
              "      <th>8</th>\n",
              "      <td>2019</td>\n",
              "      <td>9</td>\n",
              "      <td>Michael Bloomberg</td>\n",
              "      <td>55.5</td>\n",
              "      <td>77</td>\n",
              "      <td>United States</td>\n",
              "      <td>Bloomberg L.P.</td>\n",
              "    </tr>\n",
              "    <tr>\n",
              "      <th>9</th>\n",
              "      <td>2019</td>\n",
              "      <td>10</td>\n",
              "      <td>Larry Page</td>\n",
              "      <td>50.8</td>\n",
              "      <td>45</td>\n",
              "      <td>United States</td>\n",
              "      <td>Alphabet Inc.</td>\n",
              "    </tr>\n",
              "    <tr>\n",
              "      <th>10</th>\n",
              "      <td>2018</td>\n",
              "      <td>1</td>\n",
              "      <td>Jeff Bezos</td>\n",
              "      <td>112</td>\n",
              "      <td>54</td>\n",
              "      <td>United States</td>\n",
              "      <td>Amazon</td>\n",
              "    </tr>\n",
              "    <tr>\n",
              "      <th>11</th>\n",
              "      <td>2018</td>\n",
              "      <td>2</td>\n",
              "      <td>Bill Gates</td>\n",
              "      <td>90</td>\n",
              "      <td>62</td>\n",
              "      <td>United States</td>\n",
              "      <td>Microsoft</td>\n",
              "    </tr>\n",
              "    <tr>\n",
              "      <th>12</th>\n",
              "      <td>2018</td>\n",
              "      <td>3</td>\n",
              "      <td>Warren Buffett</td>\n",
              "      <td>84</td>\n",
              "      <td>87</td>\n",
              "      <td>United States</td>\n",
              "      <td>Berkshire Hathaway</td>\n",
              "    </tr>\n",
              "    <tr>\n",
              "      <th>13</th>\n",
              "      <td>2018</td>\n",
              "      <td>4</td>\n",
              "      <td>Bernard Arnault</td>\n",
              "      <td>72</td>\n",
              "      <td>69</td>\n",
              "      <td>France</td>\n",
              "      <td>LVMH</td>\n",
              "    </tr>\n",
              "    <tr>\n",
              "      <th>14</th>\n",
              "      <td>2018</td>\n",
              "      <td>5</td>\n",
              "      <td>Mark Zuckerberg</td>\n",
              "      <td>71</td>\n",
              "      <td>33</td>\n",
              "      <td>United States</td>\n",
              "      <td>Facebook</td>\n",
              "    </tr>\n",
              "    <tr>\n",
              "      <th>15</th>\n",
              "      <td>2018</td>\n",
              "      <td>6</td>\n",
              "      <td>Amancio Ortega</td>\n",
              "      <td>70</td>\n",
              "      <td>81</td>\n",
              "      <td>Spain</td>\n",
              "      <td>Inditex, Zara</td>\n",
              "    </tr>\n",
              "    <tr>\n",
              "      <th>16</th>\n",
              "      <td>2018</td>\n",
              "      <td>7</td>\n",
              "      <td>Carlos Slim</td>\n",
              "      <td>67.1</td>\n",
              "      <td>78</td>\n",
              "      <td>Mexico</td>\n",
              "      <td>América Móvil, Grupo Carso</td>\n",
              "    </tr>\n",
              "    <tr>\n",
              "      <th>17</th>\n",
              "      <td>2018</td>\n",
              "      <td>8</td>\n",
              "      <td>Charles Koch</td>\n",
              "      <td>60</td>\n",
              "      <td>82</td>\n",
              "      <td>United States</td>\n",
              "      <td>Koch Industries</td>\n",
              "    </tr>\n",
              "    <tr>\n",
              "      <th>18</th>\n",
              "      <td>2018</td>\n",
              "      <td>8</td>\n",
              "      <td>David Koch</td>\n",
              "      <td>60</td>\n",
              "      <td>77</td>\n",
              "      <td>United States</td>\n",
              "      <td>Koch Industries</td>\n",
              "    </tr>\n",
              "    <tr>\n",
              "      <th>19</th>\n",
              "      <td>2018</td>\n",
              "      <td>10</td>\n",
              "      <td>Larry Ellison</td>\n",
              "      <td>58.5</td>\n",
              "      <td>73</td>\n",
              "      <td>United States</td>\n",
              "      <td>Oracle Corporation</td>\n",
              "    </tr>\n",
              "  </tbody>\n",
              "</table>\n",
              "</div>"
            ],
            "text/plain": [
              "    year  rank               name net_worth  age    nationality  \\\n",
              "0   2019     1         Jeff Bezos      131    55  United States   \n",
              "1   2019     2         Bill Gates      96.5   63  United States   \n",
              "2   2019     3     Warren Buffett      82.5   88  United States   \n",
              "3   2019     4    Bernard Arnault       76    70         France   \n",
              "4   2019     5        Carlos Slim       64    79         Mexico   \n",
              "5   2019     6     Amancio Ortega      62.7   82          Spain   \n",
              "6   2019     7      Larry Ellison      62.5   74  United States   \n",
              "7   2019     8    Mark Zuckerberg      62.3   34  United States   \n",
              "8   2019     9  Michael Bloomberg      55.5   77  United States   \n",
              "9   2019    10         Larry Page      50.8   45  United States   \n",
              "10  2018     1         Jeff Bezos      112    54  United States   \n",
              "11  2018     2         Bill Gates       90    62  United States   \n",
              "12  2018     3     Warren Buffett       84    87  United States   \n",
              "13  2018     4    Bernard Arnault       72    69         France   \n",
              "14  2018     5    Mark Zuckerberg       71    33  United States   \n",
              "15  2018     6     Amancio Ortega       70    81          Spain   \n",
              "16  2018     7        Carlos Slim      67.1   78         Mexico   \n",
              "17  2018     8       Charles Koch       60    82  United States   \n",
              "18  2018     8         David Koch       60    77  United States   \n",
              "19  2018    10      Larry Ellison      58.5   73  United States   \n",
              "\n",
              "                 source_wealth  \n",
              "0                       Amazon  \n",
              "1                    Microsoft  \n",
              "2           Berkshire Hathaway  \n",
              "3                         LVMH  \n",
              "4   América Móvil, Grupo Carso  \n",
              "5                Inditex, Zara  \n",
              "6           Oracle Corporation  \n",
              "7                     Facebook  \n",
              "8               Bloomberg L.P.  \n",
              "9                Alphabet Inc.  \n",
              "10                      Amazon  \n",
              "11                   Microsoft  \n",
              "12          Berkshire Hathaway  \n",
              "13                        LVMH  \n",
              "14                    Facebook  \n",
              "15               Inditex, Zara  \n",
              "16  América Móvil, Grupo Carso  \n",
              "17             Koch Industries  \n",
              "18             Koch Industries  \n",
              "19          Oracle Corporation  "
            ]
          },
          "metadata": {
            "tags": []
          },
          "execution_count": 117
        }
      ]
    },
    {
      "cell_type": "code",
      "metadata": {
        "trusted": true,
        "id": "-UH2FsUhOH7Z",
        "colab_type": "code",
        "outputId": "73920ce1-e6f8-48b6-aa0b-d417eeb746fa",
        "colab": {
          "base_uri": "https://localhost:8080/",
          "height": 255
        }
      },
      "source": [
        "data.info()"
      ],
      "execution_count": 118,
      "outputs": [
        {
          "output_type": "stream",
          "text": [
            "<class 'pandas.core.frame.DataFrame'>\n",
            "RangeIndex: 180 entries, 0 to 179\n",
            "Data columns (total 7 columns):\n",
            " #   Column         Non-Null Count  Dtype \n",
            "---  ------         --------------  ----- \n",
            " 0   year           180 non-null    int64 \n",
            " 1   rank           180 non-null    int64 \n",
            " 2   name           180 non-null    object\n",
            " 3   net_worth      180 non-null    object\n",
            " 4   age            180 non-null    int64 \n",
            " 5   nationality    180 non-null    object\n",
            " 6   source_wealth  180 non-null    object\n",
            "dtypes: int64(3), object(4)\n",
            "memory usage: 10.0+ KB\n"
          ],
          "name": "stdout"
        }
      ]
    },
    {
      "cell_type": "code",
      "metadata": {
        "trusted": true,
        "id": "iXjDNQizOH7c",
        "colab_type": "code",
        "outputId": "f44ee64b-3c4a-4096-f551-9f1b45ea7ff6",
        "colab": {
          "base_uri": "https://localhost:8080/",
          "height": 297
        }
      },
      "source": [
        "data.describe()"
      ],
      "execution_count": 119,
      "outputs": [
        {
          "output_type": "execute_result",
          "data": {
            "text/html": [
              "<div>\n",
              "<style scoped>\n",
              "    .dataframe tbody tr th:only-of-type {\n",
              "        vertical-align: middle;\n",
              "    }\n",
              "\n",
              "    .dataframe tbody tr th {\n",
              "        vertical-align: top;\n",
              "    }\n",
              "\n",
              "    .dataframe thead th {\n",
              "        text-align: right;\n",
              "    }\n",
              "</style>\n",
              "<table border=\"1\" class=\"dataframe\">\n",
              "  <thead>\n",
              "    <tr style=\"text-align: right;\">\n",
              "      <th></th>\n",
              "      <th>year</th>\n",
              "      <th>rank</th>\n",
              "      <th>age</th>\n",
              "    </tr>\n",
              "  </thead>\n",
              "  <tbody>\n",
              "    <tr>\n",
              "      <th>count</th>\n",
              "      <td>180.000000</td>\n",
              "      <td>180.000000</td>\n",
              "      <td>180.000000</td>\n",
              "    </tr>\n",
              "    <tr>\n",
              "      <th>mean</th>\n",
              "      <td>2010.500000</td>\n",
              "      <td>5.394444</td>\n",
              "      <td>66.666667</td>\n",
              "    </tr>\n",
              "    <tr>\n",
              "      <th>std</th>\n",
              "      <td>5.202599</td>\n",
              "      <td>2.793642</td>\n",
              "      <td>13.689698</td>\n",
              "    </tr>\n",
              "    <tr>\n",
              "      <th>min</th>\n",
              "      <td>2002.000000</td>\n",
              "      <td>1.000000</td>\n",
              "      <td>31.000000</td>\n",
              "    </tr>\n",
              "    <tr>\n",
              "      <th>25%</th>\n",
              "      <td>2006.000000</td>\n",
              "      <td>3.000000</td>\n",
              "      <td>55.000000</td>\n",
              "    </tr>\n",
              "    <tr>\n",
              "      <th>50%</th>\n",
              "      <td>2010.500000</td>\n",
              "      <td>5.500000</td>\n",
              "      <td>69.000000</td>\n",
              "    </tr>\n",
              "    <tr>\n",
              "      <th>75%</th>\n",
              "      <td>2015.000000</td>\n",
              "      <td>8.000000</td>\n",
              "      <td>78.000000</td>\n",
              "    </tr>\n",
              "    <tr>\n",
              "      <th>max</th>\n",
              "      <td>2019.000000</td>\n",
              "      <td>10.000000</td>\n",
              "      <td>92.000000</td>\n",
              "    </tr>\n",
              "  </tbody>\n",
              "</table>\n",
              "</div>"
            ],
            "text/plain": [
              "              year        rank         age\n",
              "count   180.000000  180.000000  180.000000\n",
              "mean   2010.500000    5.394444   66.666667\n",
              "std       5.202599    2.793642   13.689698\n",
              "min    2002.000000    1.000000   31.000000\n",
              "25%    2006.000000    3.000000   55.000000\n",
              "50%    2010.500000    5.500000   69.000000\n",
              "75%    2015.000000    8.000000   78.000000\n",
              "max    2019.000000   10.000000   92.000000"
            ]
          },
          "metadata": {
            "tags": []
          },
          "execution_count": 119
        }
      ]
    },
    {
      "cell_type": "markdown",
      "metadata": {
        "id": "IqoPfoLYsuN4",
        "colab_type": "text"
      },
      "source": [
        ""
      ]
    },
    {
      "cell_type": "code",
      "metadata": {
        "trusted": true,
        "id": "w1CC9xRaOH7f",
        "colab_type": "code",
        "outputId": "2b428feb-a24e-49c8-aa8d-edb067c24e86",
        "colab": {
          "base_uri": "https://localhost:8080/",
          "height": 173
        }
      },
      "source": [
        "data.describe(include='object')"
      ],
      "execution_count": 120,
      "outputs": [
        {
          "output_type": "execute_result",
          "data": {
            "text/html": [
              "<div>\n",
              "<style scoped>\n",
              "    .dataframe tbody tr th:only-of-type {\n",
              "        vertical-align: middle;\n",
              "    }\n",
              "\n",
              "    .dataframe tbody tr th {\n",
              "        vertical-align: top;\n",
              "    }\n",
              "\n",
              "    .dataframe thead th {\n",
              "        text-align: right;\n",
              "    }\n",
              "</style>\n",
              "<table border=\"1\" class=\"dataframe\">\n",
              "  <thead>\n",
              "    <tr style=\"text-align: right;\">\n",
              "      <th></th>\n",
              "      <th>name</th>\n",
              "      <th>net_worth</th>\n",
              "      <th>nationality</th>\n",
              "      <th>source_wealth</th>\n",
              "    </tr>\n",
              "  </thead>\n",
              "  <tbody>\n",
              "    <tr>\n",
              "      <th>count</th>\n",
              "      <td>180</td>\n",
              "      <td>180</td>\n",
              "      <td>180</td>\n",
              "      <td>180</td>\n",
              "    </tr>\n",
              "    <tr>\n",
              "      <th>unique</th>\n",
              "      <td>45</td>\n",
              "      <td>122</td>\n",
              "      <td>14</td>\n",
              "      <td>43</td>\n",
              "    </tr>\n",
              "    <tr>\n",
              "      <th>top</th>\n",
              "      <td>Bill Gates</td>\n",
              "      <td>20.0</td>\n",
              "      <td>United States</td>\n",
              "      <td>Microsoft</td>\n",
              "    </tr>\n",
              "    <tr>\n",
              "      <th>freq</th>\n",
              "      <td>18</td>\n",
              "      <td>9</td>\n",
              "      <td>99</td>\n",
              "      <td>23</td>\n",
              "    </tr>\n",
              "  </tbody>\n",
              "</table>\n",
              "</div>"
            ],
            "text/plain": [
              "              name net_worth    nationality source_wealth\n",
              "count          180       180            180           180\n",
              "unique          45       122             14            43\n",
              "top     Bill Gates      20.0  United States     Microsoft\n",
              "freq            18         9             99            23"
            ]
          },
          "metadata": {
            "tags": []
          },
          "execution_count": 120
        }
      ]
    },
    {
      "cell_type": "code",
      "metadata": {
        "id": "h2_nhEleqXWh",
        "colab_type": "code",
        "colab": {}
      },
      "source": [
        "#int64 --> Numerical discrete\n",
        "#float64 --> Numerical continuous\n",
        "#object --> String Categories"
      ],
      "execution_count": 0,
      "outputs": []
    },
    {
      "cell_type": "code",
      "metadata": {
        "trusted": true,
        "id": "RrJGihX5OH7i",
        "colab_type": "code",
        "colab": {}
      },
      "source": [
        "data['net_worth']=data['net_worth'].astype('float')"
      ],
      "execution_count": 0,
      "outputs": []
    },
    {
      "cell_type": "code",
      "metadata": {
        "trusted": true,
        "id": "QBjatNQKOH7k",
        "colab_type": "code",
        "colab": {}
      },
      "source": [
        "data['year']=data['year'].astype('object')\n",
        "data['rank']=data['rank'].astype('object')"
      ],
      "execution_count": 0,
      "outputs": []
    },
    {
      "cell_type": "code",
      "metadata": {
        "trusted": true,
        "id": "5HWOrmwAOH7n",
        "colab_type": "code",
        "outputId": "d6d17336-d075-4288-fa26-47a70b76a000",
        "colab": {
          "base_uri": "https://localhost:8080/",
          "height": 255
        }
      },
      "source": [
        "data.info()"
      ],
      "execution_count": 124,
      "outputs": [
        {
          "output_type": "stream",
          "text": [
            "<class 'pandas.core.frame.DataFrame'>\n",
            "RangeIndex: 180 entries, 0 to 179\n",
            "Data columns (total 7 columns):\n",
            " #   Column         Non-Null Count  Dtype  \n",
            "---  ------         --------------  -----  \n",
            " 0   year           180 non-null    object \n",
            " 1   rank           180 non-null    object \n",
            " 2   name           180 non-null    object \n",
            " 3   net_worth      180 non-null    float64\n",
            " 4   age            180 non-null    int64  \n",
            " 5   nationality    180 non-null    object \n",
            " 6   source_wealth  180 non-null    object \n",
            "dtypes: float64(1), int64(1), object(5)\n",
            "memory usage: 10.0+ KB\n"
          ],
          "name": "stdout"
        }
      ]
    },
    {
      "cell_type": "code",
      "metadata": {
        "id": "gsedU3josycp",
        "colab_type": "code",
        "outputId": "cbb50895-1b45-4266-c9a2-97b36dd52ef8",
        "colab": {
          "base_uri": "https://localhost:8080/",
          "height": 297
        }
      },
      "source": [
        "data.describe()"
      ],
      "execution_count": 125,
      "outputs": [
        {
          "output_type": "execute_result",
          "data": {
            "text/html": [
              "<div>\n",
              "<style scoped>\n",
              "    .dataframe tbody tr th:only-of-type {\n",
              "        vertical-align: middle;\n",
              "    }\n",
              "\n",
              "    .dataframe tbody tr th {\n",
              "        vertical-align: top;\n",
              "    }\n",
              "\n",
              "    .dataframe thead th {\n",
              "        text-align: right;\n",
              "    }\n",
              "</style>\n",
              "<table border=\"1\" class=\"dataframe\">\n",
              "  <thead>\n",
              "    <tr style=\"text-align: right;\">\n",
              "      <th></th>\n",
              "      <th>net_worth</th>\n",
              "      <th>age</th>\n",
              "    </tr>\n",
              "  </thead>\n",
              "  <tbody>\n",
              "    <tr>\n",
              "      <th>count</th>\n",
              "      <td>180.000000</td>\n",
              "      <td>180.000000</td>\n",
              "    </tr>\n",
              "    <tr>\n",
              "      <th>mean</th>\n",
              "      <td>42.358889</td>\n",
              "      <td>66.666667</td>\n",
              "    </tr>\n",
              "    <tr>\n",
              "      <th>std</th>\n",
              "      <td>20.716910</td>\n",
              "      <td>13.689698</td>\n",
              "    </tr>\n",
              "    <tr>\n",
              "      <th>min</th>\n",
              "      <td>16.100000</td>\n",
              "      <td>31.000000</td>\n",
              "    </tr>\n",
              "    <tr>\n",
              "      <th>25%</th>\n",
              "      <td>25.000000</td>\n",
              "      <td>55.000000</td>\n",
              "    </tr>\n",
              "    <tr>\n",
              "      <th>50%</th>\n",
              "      <td>39.800000</td>\n",
              "      <td>69.000000</td>\n",
              "    </tr>\n",
              "    <tr>\n",
              "      <th>75%</th>\n",
              "      <td>56.000000</td>\n",
              "      <td>78.000000</td>\n",
              "    </tr>\n",
              "    <tr>\n",
              "      <th>max</th>\n",
              "      <td>131.000000</td>\n",
              "      <td>92.000000</td>\n",
              "    </tr>\n",
              "  </tbody>\n",
              "</table>\n",
              "</div>"
            ],
            "text/plain": [
              "        net_worth         age\n",
              "count  180.000000  180.000000\n",
              "mean    42.358889   66.666667\n",
              "std     20.716910   13.689698\n",
              "min     16.100000   31.000000\n",
              "25%     25.000000   55.000000\n",
              "50%     39.800000   69.000000\n",
              "75%     56.000000   78.000000\n",
              "max    131.000000   92.000000"
            ]
          },
          "metadata": {
            "tags": []
          },
          "execution_count": 125
        }
      ]
    },
    {
      "cell_type": "markdown",
      "metadata": {
        "id": "CUeloFHezD0T",
        "colab_type": "text"
      },
      "source": [
        "\n",
        "\n",
        "*   Count : No of entries or records\n",
        "*   Mean : Average value of Networth is 42.36 and Average age of billionair is 66.7 \n",
        "*   std : Deviation from the mean\n",
        "*   min : Minimum quartile value\n",
        "*   25% : 25 percent of the value\n",
        "*   50% : 50 percent of the value(median)\n",
        "*   75% : 75 percent of the value\n",
        "*   Max : Maximum value\n",
        "\n",
        "\n",
        "\n",
        "\n",
        "\n",
        "\n",
        "\n",
        "\n",
        "\n"
      ]
    },
    {
      "cell_type": "code",
      "metadata": {
        "id": "I0SC3tu4CXNy",
        "colab_type": "code",
        "outputId": "1a6c8ec3-d4c4-4721-8733-574a202ac50d",
        "colab": {
          "base_uri": "https://localhost:8080/",
          "height": 173
        }
      },
      "source": [
        "data.describe(include='object')"
      ],
      "execution_count": 126,
      "outputs": [
        {
          "output_type": "execute_result",
          "data": {
            "text/html": [
              "<div>\n",
              "<style scoped>\n",
              "    .dataframe tbody tr th:only-of-type {\n",
              "        vertical-align: middle;\n",
              "    }\n",
              "\n",
              "    .dataframe tbody tr th {\n",
              "        vertical-align: top;\n",
              "    }\n",
              "\n",
              "    .dataframe thead th {\n",
              "        text-align: right;\n",
              "    }\n",
              "</style>\n",
              "<table border=\"1\" class=\"dataframe\">\n",
              "  <thead>\n",
              "    <tr style=\"text-align: right;\">\n",
              "      <th></th>\n",
              "      <th>year</th>\n",
              "      <th>rank</th>\n",
              "      <th>name</th>\n",
              "      <th>nationality</th>\n",
              "      <th>source_wealth</th>\n",
              "    </tr>\n",
              "  </thead>\n",
              "  <tbody>\n",
              "    <tr>\n",
              "      <th>count</th>\n",
              "      <td>180</td>\n",
              "      <td>180</td>\n",
              "      <td>180</td>\n",
              "      <td>180</td>\n",
              "      <td>180</td>\n",
              "    </tr>\n",
              "    <tr>\n",
              "      <th>unique</th>\n",
              "      <td>18</td>\n",
              "      <td>10</td>\n",
              "      <td>45</td>\n",
              "      <td>14</td>\n",
              "      <td>43</td>\n",
              "    </tr>\n",
              "    <tr>\n",
              "      <th>top</th>\n",
              "      <td>2015</td>\n",
              "      <td>6</td>\n",
              "      <td>Bill Gates</td>\n",
              "      <td>United States</td>\n",
              "      <td>Microsoft</td>\n",
              "    </tr>\n",
              "    <tr>\n",
              "      <th>freq</th>\n",
              "      <td>10</td>\n",
              "      <td>25</td>\n",
              "      <td>18</td>\n",
              "      <td>99</td>\n",
              "      <td>23</td>\n",
              "    </tr>\n",
              "  </tbody>\n",
              "</table>\n",
              "</div>"
            ],
            "text/plain": [
              "        year  rank        name    nationality source_wealth\n",
              "count    180   180         180            180           180\n",
              "unique    18    10          45             14            43\n",
              "top     2015     6  Bill Gates  United States     Microsoft\n",
              "freq      10    25          18             99            23"
            ]
          },
          "metadata": {
            "tags": []
          },
          "execution_count": 126
        }
      ]
    },
    {
      "cell_type": "markdown",
      "metadata": {
        "id": "UaBzK1vOLY42",
        "colab_type": "text"
      },
      "source": [
        ""
      ]
    },
    {
      "cell_type": "code",
      "metadata": {
        "id": "2mwwjOChEmCi",
        "colab_type": "code",
        "outputId": "8475984d-55c9-41ab-fb06-e7aa5e55b8c4",
        "colab": {
          "base_uri": "https://localhost:8080/",
          "height": 34
        }
      },
      "source": [
        "type(data.columns[0])"
      ],
      "execution_count": 127,
      "outputs": [
        {
          "output_type": "execute_result",
          "data": {
            "text/plain": [
              "str"
            ]
          },
          "metadata": {
            "tags": []
          },
          "execution_count": 127
        }
      ]
    },
    {
      "cell_type": "code",
      "metadata": {
        "id": "4mNMTWpSIfpj",
        "colab_type": "code",
        "colab": {}
      },
      "source": [
        "data.columns = ['year', 'rank', 'name', 'net_worth', 'age', 'nationality','source_wealth']"
      ],
      "execution_count": 0,
      "outputs": []
    },
    {
      "cell_type": "code",
      "metadata": {
        "id": "TXhJUQFAI6IL",
        "colab_type": "code",
        "outputId": "86200faf-ec15-455c-d275-a27897cca0e1",
        "colab": {
          "base_uri": "https://localhost:8080/",
          "height": 204
        }
      },
      "source": [
        "data.head()"
      ],
      "execution_count": 129,
      "outputs": [
        {
          "output_type": "execute_result",
          "data": {
            "text/html": [
              "<div>\n",
              "<style scoped>\n",
              "    .dataframe tbody tr th:only-of-type {\n",
              "        vertical-align: middle;\n",
              "    }\n",
              "\n",
              "    .dataframe tbody tr th {\n",
              "        vertical-align: top;\n",
              "    }\n",
              "\n",
              "    .dataframe thead th {\n",
              "        text-align: right;\n",
              "    }\n",
              "</style>\n",
              "<table border=\"1\" class=\"dataframe\">\n",
              "  <thead>\n",
              "    <tr style=\"text-align: right;\">\n",
              "      <th></th>\n",
              "      <th>year</th>\n",
              "      <th>rank</th>\n",
              "      <th>name</th>\n",
              "      <th>net_worth</th>\n",
              "      <th>age</th>\n",
              "      <th>nationality</th>\n",
              "      <th>source_wealth</th>\n",
              "    </tr>\n",
              "  </thead>\n",
              "  <tbody>\n",
              "    <tr>\n",
              "      <th>0</th>\n",
              "      <td>2019</td>\n",
              "      <td>1</td>\n",
              "      <td>Jeff Bezos</td>\n",
              "      <td>131.0</td>\n",
              "      <td>55</td>\n",
              "      <td>United States</td>\n",
              "      <td>Amazon</td>\n",
              "    </tr>\n",
              "    <tr>\n",
              "      <th>1</th>\n",
              "      <td>2019</td>\n",
              "      <td>2</td>\n",
              "      <td>Bill Gates</td>\n",
              "      <td>96.5</td>\n",
              "      <td>63</td>\n",
              "      <td>United States</td>\n",
              "      <td>Microsoft</td>\n",
              "    </tr>\n",
              "    <tr>\n",
              "      <th>2</th>\n",
              "      <td>2019</td>\n",
              "      <td>3</td>\n",
              "      <td>Warren Buffett</td>\n",
              "      <td>82.5</td>\n",
              "      <td>88</td>\n",
              "      <td>United States</td>\n",
              "      <td>Berkshire Hathaway</td>\n",
              "    </tr>\n",
              "    <tr>\n",
              "      <th>3</th>\n",
              "      <td>2019</td>\n",
              "      <td>4</td>\n",
              "      <td>Bernard Arnault</td>\n",
              "      <td>76.0</td>\n",
              "      <td>70</td>\n",
              "      <td>France</td>\n",
              "      <td>LVMH</td>\n",
              "    </tr>\n",
              "    <tr>\n",
              "      <th>4</th>\n",
              "      <td>2019</td>\n",
              "      <td>5</td>\n",
              "      <td>Carlos Slim</td>\n",
              "      <td>64.0</td>\n",
              "      <td>79</td>\n",
              "      <td>Mexico</td>\n",
              "      <td>América Móvil, Grupo Carso</td>\n",
              "    </tr>\n",
              "  </tbody>\n",
              "</table>\n",
              "</div>"
            ],
            "text/plain": [
              "   year rank             name  net_worth  age    nationality  \\\n",
              "0  2019    1       Jeff Bezos      131.0   55  United States   \n",
              "1  2019    2       Bill Gates       96.5   63  United States   \n",
              "2  2019    3   Warren Buffett       82.5   88  United States   \n",
              "3  2019    4  Bernard Arnault       76.0   70         France   \n",
              "4  2019    5      Carlos Slim       64.0   79         Mexico   \n",
              "\n",
              "                source_wealth  \n",
              "0                      Amazon  \n",
              "1                   Microsoft  \n",
              "2          Berkshire Hathaway  \n",
              "3                        LVMH  \n",
              "4  América Móvil, Grupo Carso  "
            ]
          },
          "metadata": {
            "tags": []
          },
          "execution_count": 129
        }
      ]
    },
    {
      "cell_type": "code",
      "metadata": {
        "id": "nLD5XY1GJEr7",
        "colab_type": "code",
        "colab": {}
      },
      "source": [
        "data['NewCol'] = \"Something\""
      ],
      "execution_count": 0,
      "outputs": []
    },
    {
      "cell_type": "code",
      "metadata": {
        "id": "oIGrHF3ZJMVl",
        "colab_type": "code",
        "outputId": "9fca05f7-e6c0-4b99-99d6-231946614950",
        "colab": {
          "base_uri": "https://localhost:8080/",
          "height": 204
        }
      },
      "source": [
        "data.head()"
      ],
      "execution_count": 131,
      "outputs": [
        {
          "output_type": "execute_result",
          "data": {
            "text/html": [
              "<div>\n",
              "<style scoped>\n",
              "    .dataframe tbody tr th:only-of-type {\n",
              "        vertical-align: middle;\n",
              "    }\n",
              "\n",
              "    .dataframe tbody tr th {\n",
              "        vertical-align: top;\n",
              "    }\n",
              "\n",
              "    .dataframe thead th {\n",
              "        text-align: right;\n",
              "    }\n",
              "</style>\n",
              "<table border=\"1\" class=\"dataframe\">\n",
              "  <thead>\n",
              "    <tr style=\"text-align: right;\">\n",
              "      <th></th>\n",
              "      <th>year</th>\n",
              "      <th>rank</th>\n",
              "      <th>name</th>\n",
              "      <th>net_worth</th>\n",
              "      <th>age</th>\n",
              "      <th>nationality</th>\n",
              "      <th>source_wealth</th>\n",
              "      <th>NewCol</th>\n",
              "    </tr>\n",
              "  </thead>\n",
              "  <tbody>\n",
              "    <tr>\n",
              "      <th>0</th>\n",
              "      <td>2019</td>\n",
              "      <td>1</td>\n",
              "      <td>Jeff Bezos</td>\n",
              "      <td>131.0</td>\n",
              "      <td>55</td>\n",
              "      <td>United States</td>\n",
              "      <td>Amazon</td>\n",
              "      <td>Something</td>\n",
              "    </tr>\n",
              "    <tr>\n",
              "      <th>1</th>\n",
              "      <td>2019</td>\n",
              "      <td>2</td>\n",
              "      <td>Bill Gates</td>\n",
              "      <td>96.5</td>\n",
              "      <td>63</td>\n",
              "      <td>United States</td>\n",
              "      <td>Microsoft</td>\n",
              "      <td>Something</td>\n",
              "    </tr>\n",
              "    <tr>\n",
              "      <th>2</th>\n",
              "      <td>2019</td>\n",
              "      <td>3</td>\n",
              "      <td>Warren Buffett</td>\n",
              "      <td>82.5</td>\n",
              "      <td>88</td>\n",
              "      <td>United States</td>\n",
              "      <td>Berkshire Hathaway</td>\n",
              "      <td>Something</td>\n",
              "    </tr>\n",
              "    <tr>\n",
              "      <th>3</th>\n",
              "      <td>2019</td>\n",
              "      <td>4</td>\n",
              "      <td>Bernard Arnault</td>\n",
              "      <td>76.0</td>\n",
              "      <td>70</td>\n",
              "      <td>France</td>\n",
              "      <td>LVMH</td>\n",
              "      <td>Something</td>\n",
              "    </tr>\n",
              "    <tr>\n",
              "      <th>4</th>\n",
              "      <td>2019</td>\n",
              "      <td>5</td>\n",
              "      <td>Carlos Slim</td>\n",
              "      <td>64.0</td>\n",
              "      <td>79</td>\n",
              "      <td>Mexico</td>\n",
              "      <td>América Móvil, Grupo Carso</td>\n",
              "      <td>Something</td>\n",
              "    </tr>\n",
              "  </tbody>\n",
              "</table>\n",
              "</div>"
            ],
            "text/plain": [
              "   year rank             name  net_worth  age    nationality  \\\n",
              "0  2019    1       Jeff Bezos      131.0   55  United States   \n",
              "1  2019    2       Bill Gates       96.5   63  United States   \n",
              "2  2019    3   Warren Buffett       82.5   88  United States   \n",
              "3  2019    4  Bernard Arnault       76.0   70         France   \n",
              "4  2019    5      Carlos Slim       64.0   79         Mexico   \n",
              "\n",
              "                source_wealth     NewCol  \n",
              "0                      Amazon  Something  \n",
              "1                   Microsoft  Something  \n",
              "2          Berkshire Hathaway  Something  \n",
              "3                        LVMH  Something  \n",
              "4  América Móvil, Grupo Carso  Something  "
            ]
          },
          "metadata": {
            "tags": []
          },
          "execution_count": 131
        }
      ]
    },
    {
      "cell_type": "code",
      "metadata": {
        "id": "bHYmzjpaJUUB",
        "colab_type": "code",
        "colab": {}
      },
      "source": [
        "data.drop(['NewCol'],inplace=True, axis=1) #drop the column, which is an operation to be performed on whole column\n",
        "\n",
        "# axis = 1, do operations column wise\n",
        "# axis = 0, do operation row wise"
      ],
      "execution_count": 0,
      "outputs": []
    },
    {
      "cell_type": "code",
      "metadata": {
        "id": "eXJS3KlcNHkn",
        "colab_type": "code",
        "colab": {}
      },
      "source": [
        "data['year_new'] = data['year'].astype('object')\n",
        "data['new_worth'] = data['net_worth'].astype('object')\n",
        "data['rank'] = data['rank'].astype('object')"
      ],
      "execution_count": 0,
      "outputs": []
    },
    {
      "cell_type": "code",
      "metadata": {
        "id": "MYp3GzTOOuMn",
        "colab_type": "code",
        "outputId": "5fc1f907-41d2-469f-c84b-52e574ffe457",
        "colab": {
          "base_uri": "https://localhost:8080/",
          "height": 289
        }
      },
      "source": [
        "data.info()"
      ],
      "execution_count": 134,
      "outputs": [
        {
          "output_type": "stream",
          "text": [
            "<class 'pandas.core.frame.DataFrame'>\n",
            "RangeIndex: 180 entries, 0 to 179\n",
            "Data columns (total 9 columns):\n",
            " #   Column         Non-Null Count  Dtype  \n",
            "---  ------         --------------  -----  \n",
            " 0   year           180 non-null    object \n",
            " 1   rank           180 non-null    object \n",
            " 2   name           180 non-null    object \n",
            " 3   net_worth      180 non-null    float64\n",
            " 4   age            180 non-null    int64  \n",
            " 5   nationality    180 non-null    object \n",
            " 6   source_wealth  180 non-null    object \n",
            " 7   year_new       180 non-null    object \n",
            " 8   new_worth      180 non-null    object \n",
            "dtypes: float64(1), int64(1), object(7)\n",
            "memory usage: 12.8+ KB\n"
          ],
          "name": "stdout"
        }
      ]
    },
    {
      "cell_type": "code",
      "metadata": {
        "id": "Ow8ag6WbPYxP",
        "colab_type": "code",
        "outputId": "fd234918-c986-4bdc-ca93-0f55ad7c50d2",
        "colab": {
          "base_uri": "https://localhost:8080/",
          "height": 204
        }
      },
      "source": [
        "data['rank'].value_counts()"
      ],
      "execution_count": 135,
      "outputs": [
        {
          "output_type": "execute_result",
          "data": {
            "text/plain": [
              "6     25\n",
              "8     21\n",
              "5     18\n",
              "4     18\n",
              "3     18\n",
              "2     18\n",
              "1     18\n",
              "10    15\n",
              "9     15\n",
              "7     14\n",
              "Name: rank, dtype: int64"
            ]
          },
          "metadata": {
            "tags": []
          },
          "execution_count": 135
        }
      ]
    },
    {
      "cell_type": "code",
      "metadata": {
        "id": "b8N4mydCpj3X",
        "colab_type": "code",
        "colab": {
          "base_uri": "https://localhost:8080/",
          "height": 221
        },
        "outputId": "b2699751-7d84-4cf4-9e8e-9bdad0d6025b"
      },
      "source": [
        "data['name']"
      ],
      "execution_count": 136,
      "outputs": [
        {
          "output_type": "execute_result",
          "data": {
            "text/plain": [
              "0               Jeff Bezos\n",
              "1               Bill Gates\n",
              "2           Warren Buffett\n",
              "3          Bernard Arnault\n",
              "4              Carlos Slim\n",
              "              ...         \n",
              "175    Al-Waleed bin Talal\n",
              "176       S. Robson Walton\n",
              "177          Masayoshi Son\n",
              "178           Michael Dell\n",
              "179        Kenneth Thomson\n",
              "Name: name, Length: 180, dtype: object"
            ]
          },
          "metadata": {
            "tags": []
          },
          "execution_count": 136
        }
      ]
    },
    {
      "cell_type": "code",
      "metadata": {
        "id": "gctVIu0oRcTN",
        "colab_type": "code",
        "outputId": "e74bd1b7-3112-48b7-beb8-8e8bc9421eeb",
        "colab": {
          "base_uri": "https://localhost:8080/",
          "height": 669
        }
      },
      "source": [
        "data[['year','rank','net_worth']].head(20)"
      ],
      "execution_count": 137,
      "outputs": [
        {
          "output_type": "execute_result",
          "data": {
            "text/html": [
              "<div>\n",
              "<style scoped>\n",
              "    .dataframe tbody tr th:only-of-type {\n",
              "        vertical-align: middle;\n",
              "    }\n",
              "\n",
              "    .dataframe tbody tr th {\n",
              "        vertical-align: top;\n",
              "    }\n",
              "\n",
              "    .dataframe thead th {\n",
              "        text-align: right;\n",
              "    }\n",
              "</style>\n",
              "<table border=\"1\" class=\"dataframe\">\n",
              "  <thead>\n",
              "    <tr style=\"text-align: right;\">\n",
              "      <th></th>\n",
              "      <th>year</th>\n",
              "      <th>rank</th>\n",
              "      <th>net_worth</th>\n",
              "    </tr>\n",
              "  </thead>\n",
              "  <tbody>\n",
              "    <tr>\n",
              "      <th>0</th>\n",
              "      <td>2019</td>\n",
              "      <td>1</td>\n",
              "      <td>131.0</td>\n",
              "    </tr>\n",
              "    <tr>\n",
              "      <th>1</th>\n",
              "      <td>2019</td>\n",
              "      <td>2</td>\n",
              "      <td>96.5</td>\n",
              "    </tr>\n",
              "    <tr>\n",
              "      <th>2</th>\n",
              "      <td>2019</td>\n",
              "      <td>3</td>\n",
              "      <td>82.5</td>\n",
              "    </tr>\n",
              "    <tr>\n",
              "      <th>3</th>\n",
              "      <td>2019</td>\n",
              "      <td>4</td>\n",
              "      <td>76.0</td>\n",
              "    </tr>\n",
              "    <tr>\n",
              "      <th>4</th>\n",
              "      <td>2019</td>\n",
              "      <td>5</td>\n",
              "      <td>64.0</td>\n",
              "    </tr>\n",
              "    <tr>\n",
              "      <th>5</th>\n",
              "      <td>2019</td>\n",
              "      <td>6</td>\n",
              "      <td>62.7</td>\n",
              "    </tr>\n",
              "    <tr>\n",
              "      <th>6</th>\n",
              "      <td>2019</td>\n",
              "      <td>7</td>\n",
              "      <td>62.5</td>\n",
              "    </tr>\n",
              "    <tr>\n",
              "      <th>7</th>\n",
              "      <td>2019</td>\n",
              "      <td>8</td>\n",
              "      <td>62.3</td>\n",
              "    </tr>\n",
              "    <tr>\n",
              "      <th>8</th>\n",
              "      <td>2019</td>\n",
              "      <td>9</td>\n",
              "      <td>55.5</td>\n",
              "    </tr>\n",
              "    <tr>\n",
              "      <th>9</th>\n",
              "      <td>2019</td>\n",
              "      <td>10</td>\n",
              "      <td>50.8</td>\n",
              "    </tr>\n",
              "    <tr>\n",
              "      <th>10</th>\n",
              "      <td>2018</td>\n",
              "      <td>1</td>\n",
              "      <td>112.0</td>\n",
              "    </tr>\n",
              "    <tr>\n",
              "      <th>11</th>\n",
              "      <td>2018</td>\n",
              "      <td>2</td>\n",
              "      <td>90.0</td>\n",
              "    </tr>\n",
              "    <tr>\n",
              "      <th>12</th>\n",
              "      <td>2018</td>\n",
              "      <td>3</td>\n",
              "      <td>84.0</td>\n",
              "    </tr>\n",
              "    <tr>\n",
              "      <th>13</th>\n",
              "      <td>2018</td>\n",
              "      <td>4</td>\n",
              "      <td>72.0</td>\n",
              "    </tr>\n",
              "    <tr>\n",
              "      <th>14</th>\n",
              "      <td>2018</td>\n",
              "      <td>5</td>\n",
              "      <td>71.0</td>\n",
              "    </tr>\n",
              "    <tr>\n",
              "      <th>15</th>\n",
              "      <td>2018</td>\n",
              "      <td>6</td>\n",
              "      <td>70.0</td>\n",
              "    </tr>\n",
              "    <tr>\n",
              "      <th>16</th>\n",
              "      <td>2018</td>\n",
              "      <td>7</td>\n",
              "      <td>67.1</td>\n",
              "    </tr>\n",
              "    <tr>\n",
              "      <th>17</th>\n",
              "      <td>2018</td>\n",
              "      <td>8</td>\n",
              "      <td>60.0</td>\n",
              "    </tr>\n",
              "    <tr>\n",
              "      <th>18</th>\n",
              "      <td>2018</td>\n",
              "      <td>8</td>\n",
              "      <td>60.0</td>\n",
              "    </tr>\n",
              "    <tr>\n",
              "      <th>19</th>\n",
              "      <td>2018</td>\n",
              "      <td>10</td>\n",
              "      <td>58.5</td>\n",
              "    </tr>\n",
              "  </tbody>\n",
              "</table>\n",
              "</div>"
            ],
            "text/plain": [
              "    year rank  net_worth\n",
              "0   2019    1      131.0\n",
              "1   2019    2       96.5\n",
              "2   2019    3       82.5\n",
              "3   2019    4       76.0\n",
              "4   2019    5       64.0\n",
              "5   2019    6       62.7\n",
              "6   2019    7       62.5\n",
              "7   2019    8       62.3\n",
              "8   2019    9       55.5\n",
              "9   2019   10       50.8\n",
              "10  2018    1      112.0\n",
              "11  2018    2       90.0\n",
              "12  2018    3       84.0\n",
              "13  2018    4       72.0\n",
              "14  2018    5       71.0\n",
              "15  2018    6       70.0\n",
              "16  2018    7       67.1\n",
              "17  2018    8       60.0\n",
              "18  2018    8       60.0\n",
              "19  2018   10       58.5"
            ]
          },
          "metadata": {
            "tags": []
          },
          "execution_count": 137
        }
      ]
    },
    {
      "cell_type": "code",
      "metadata": {
        "id": "rn1_B4-bp58B",
        "colab_type": "code",
        "colab": {
          "base_uri": "https://localhost:8080/",
          "height": 68
        },
        "outputId": "8a8e7a2c-6a90-4517-9961-bd77a55dbbd7"
      },
      "source": [
        "data.columns"
      ],
      "execution_count": 138,
      "outputs": [
        {
          "output_type": "execute_result",
          "data": {
            "text/plain": [
              "Index(['year', 'rank', 'name', 'net_worth', 'age', 'nationality',\n",
              "       'source_wealth', 'year_new', 'new_worth'],\n",
              "      dtype='object')"
            ]
          },
          "metadata": {
            "tags": []
          },
          "execution_count": 138
        }
      ]
    },
    {
      "cell_type": "code",
      "metadata": {
        "id": "S362e7H9qFUV",
        "colab_type": "code",
        "colab": {
          "base_uri": "https://localhost:8080/",
          "height": 266
        },
        "outputId": "d226ada4-fc29-40e3-fe11-7dae6ed88c8a"
      },
      "source": [
        "data[(data['nationality'] == 'United States') & (data['year'] == 2019) & (data['net_worth'] > 50 )][['name','rank']]"
      ],
      "execution_count": 139,
      "outputs": [
        {
          "output_type": "execute_result",
          "data": {
            "text/html": [
              "<div>\n",
              "<style scoped>\n",
              "    .dataframe tbody tr th:only-of-type {\n",
              "        vertical-align: middle;\n",
              "    }\n",
              "\n",
              "    .dataframe tbody tr th {\n",
              "        vertical-align: top;\n",
              "    }\n",
              "\n",
              "    .dataframe thead th {\n",
              "        text-align: right;\n",
              "    }\n",
              "</style>\n",
              "<table border=\"1\" class=\"dataframe\">\n",
              "  <thead>\n",
              "    <tr style=\"text-align: right;\">\n",
              "      <th></th>\n",
              "      <th>name</th>\n",
              "      <th>rank</th>\n",
              "    </tr>\n",
              "  </thead>\n",
              "  <tbody>\n",
              "    <tr>\n",
              "      <th>0</th>\n",
              "      <td>Jeff Bezos</td>\n",
              "      <td>1</td>\n",
              "    </tr>\n",
              "    <tr>\n",
              "      <th>1</th>\n",
              "      <td>Bill Gates</td>\n",
              "      <td>2</td>\n",
              "    </tr>\n",
              "    <tr>\n",
              "      <th>2</th>\n",
              "      <td>Warren Buffett</td>\n",
              "      <td>3</td>\n",
              "    </tr>\n",
              "    <tr>\n",
              "      <th>6</th>\n",
              "      <td>Larry Ellison</td>\n",
              "      <td>7</td>\n",
              "    </tr>\n",
              "    <tr>\n",
              "      <th>7</th>\n",
              "      <td>Mark Zuckerberg</td>\n",
              "      <td>8</td>\n",
              "    </tr>\n",
              "    <tr>\n",
              "      <th>8</th>\n",
              "      <td>Michael Bloomberg</td>\n",
              "      <td>9</td>\n",
              "    </tr>\n",
              "    <tr>\n",
              "      <th>9</th>\n",
              "      <td>Larry Page</td>\n",
              "      <td>10</td>\n",
              "    </tr>\n",
              "  </tbody>\n",
              "</table>\n",
              "</div>"
            ],
            "text/plain": [
              "                name rank\n",
              "0         Jeff Bezos    1\n",
              "1         Bill Gates    2\n",
              "2     Warren Buffett    3\n",
              "6      Larry Ellison    7\n",
              "7    Mark Zuckerberg    8\n",
              "8  Michael Bloomberg    9\n",
              "9         Larry Page   10"
            ]
          },
          "metadata": {
            "tags": []
          },
          "execution_count": 139
        }
      ]
    },
    {
      "cell_type": "code",
      "metadata": {
        "id": "zEHSPGaoRus9",
        "colab_type": "code",
        "outputId": "2999f6f7-5169-4d34-eb77-c561dbeaabf9",
        "colab": {
          "base_uri": "https://localhost:8080/",
          "height": 34
        }
      },
      "source": [
        "data.groupby('year')"
      ],
      "execution_count": 140,
      "outputs": [
        {
          "output_type": "execute_result",
          "data": {
            "text/plain": [
              "<pandas.core.groupby.generic.DataFrameGroupBy object at 0x7f2928c186a0>"
            ]
          },
          "metadata": {
            "tags": []
          },
          "execution_count": 140
        }
      ]
    },
    {
      "cell_type": "code",
      "metadata": {
        "id": "rehiS1R5R1RO",
        "colab_type": "code",
        "outputId": "924b6214-1771-49da-dd20-5ac2fefc585d",
        "colab": {
          "base_uri": "https://localhost:8080/",
          "height": 799
        }
      },
      "source": [
        "data['name'].value_counts()"
      ],
      "execution_count": 141,
      "outputs": [
        {
          "output_type": "execute_result",
          "data": {
            "text/plain": [
              "Bill Gates                      18\n",
              "Warren Buffett                  17\n",
              "Larry Ellison                   14\n",
              "Amancio Ortega                  12\n",
              "Carlos Slim                     10\n",
              "Bernard Arnault                  8\n",
              "Lakshmi Mittal                   7\n",
              "David Koch                       6\n",
              "Charles Koch                     6\n",
              "Paul Allen                       5\n",
              "Ingvar Kamprad                   5\n",
              "Carlos Slim & family             5\n",
              "Karl Albrecht                    5\n",
              "Mukesh Ambani                    4\n",
              "Jeff Bezos                       4\n",
              "Al-Waleed bin Talal              4\n",
              "Mark Zuckerberg                  4\n",
              "Li Ka-shing                      4\n",
              "Michael Bloomberg                3\n",
              "Eike Batista                     3\n",
              "Kenneth Thomson                  2\n",
              "John Walton*                     2\n",
              "S. Robson Walton                 2\n",
              "Jim Walton                       2\n",
              "Sheldon Adelson                  2\n",
              "S. Robson Walton*                2\n",
              "Jim Walton*                      2\n",
              "Christy Walton & family          2\n",
              "Helen Walton*                    2\n",
              "Karl and Theo Albrecht           2\n",
              "Alice Walton*                    2\n",
              "Anil Ambani                      1\n",
              "Stefan Persson                   1\n",
              "Liliane Bettencourt              1\n",
              "Oleg Deripaska                   1\n",
              "Warren  Buffett                  1\n",
              "Michael Dell                     1\n",
              "Larry Page                       1\n",
              "Liliane Bettencourt & family     1\n",
              "David Thomson                    1\n",
              "Christy Walton                   1\n",
              "Masayoshi Son                    1\n",
              "Kushal Pal Singh                 1\n",
              "Theo Albrecht                    1\n",
              "Karl   Albrecht                  1\n",
              "Name: name, dtype: int64"
            ]
          },
          "metadata": {
            "tags": []
          },
          "execution_count": 141
        }
      ]
    },
    {
      "cell_type": "code",
      "metadata": {
        "trusted": true,
        "id": "2d6KlJ0UOH7q",
        "colab_type": "code",
        "outputId": "2249b6d4-8d80-48ee-a5d9-9e892fdc9003",
        "colab": {
          "base_uri": "https://localhost:8080/",
          "height": 765
        }
      },
      "source": [
        "data['source_wealth'].value_counts()"
      ],
      "execution_count": 142,
      "outputs": [
        {
          "output_type": "execute_result",
          "data": {
            "text/plain": [
              "Microsoft                                  23\n",
              "Berkshire Hathaway                         18\n",
              "Oracle Corporation                         14\n",
              "Koch Industries                            12\n",
              "Wal-Mart                                   11\n",
              "Aldi Süd                                    7\n",
              "Inditex Group                               6\n",
              "Telmex, América Móvil, Grupo Carso          6\n",
              "Walmart                                     6\n",
              "IKEA                                        5\n",
              "Arcelor Mittal                              5\n",
              "LVMH                                        4\n",
              "Facebook                                    4\n",
              "América Móvil, Grupo Carso                  4\n",
              "LVMH Moët Hennessy • Louis Vuitton          4\n",
              "Amazon                                      4\n",
              "Kingdom Holding Company                     4\n",
              "Reliance Industries                         4\n",
              "Inditex                                     3\n",
              "EBX Group                                   3\n",
              "Bloomberg L.P.                              3\n",
              "Inditex, Zara                               3\n",
              "The Thomson Corporation                     2\n",
              "Las Vegas Sands                             2\n",
              "Telmex, América Móvil                       2\n",
              "Telmex                                      2\n",
              "Mittal Steel Company                        2\n",
              "Cheung Kong Holdings                        2\n",
              "Aldi Nord, Trader Joe's                     1\n",
              "Thomson Corporation                         1\n",
              "Softbank Capital, SoftBank Mobile           1\n",
              "DLF Group                                   1\n",
              "Alphabet Inc.                               1\n",
              "Cheung Kong Holdings, Hutchison Whampoa     1\n",
              "América Móvil, Telmex, Grupo Carso          1\n",
              "L'Oreal                                     1\n",
              "Cheung Kong Group, Hutchison Whampoa        1\n",
              "Anil Dhirubhai Ambani Group                 1\n",
              "L'Oréal                                     1\n",
              "H&M                                         1\n",
              "Dell                                        1\n",
              "Rusal                                       1\n",
              "Aldi                                        1\n",
              "Name: source_wealth, dtype: int64"
            ]
          },
          "metadata": {
            "tags": []
          },
          "execution_count": 142
        }
      ]
    },
    {
      "cell_type": "markdown",
      "metadata": {
        "id": "zqC69U8labjy",
        "colab_type": "text"
      },
      "source": [
        "Based on the above count we can say tha worlds wealthiest people belong to microsoft"
      ]
    },
    {
      "cell_type": "code",
      "metadata": {
        "id": "6Gtiq9PeZ8sf",
        "colab_type": "code",
        "outputId": "326c601b-09ee-4018-a7ce-35d11d3e95ef",
        "colab": {
          "base_uri": "https://localhost:8080/",
          "height": 173
        }
      },
      "source": [
        "data[(data['name'] == 'Mukesh Ambani')]"
      ],
      "execution_count": 143,
      "outputs": [
        {
          "output_type": "execute_result",
          "data": {
            "text/html": [
              "<div>\n",
              "<style scoped>\n",
              "    .dataframe tbody tr th:only-of-type {\n",
              "        vertical-align: middle;\n",
              "    }\n",
              "\n",
              "    .dataframe tbody tr th {\n",
              "        vertical-align: top;\n",
              "    }\n",
              "\n",
              "    .dataframe thead th {\n",
              "        text-align: right;\n",
              "    }\n",
              "</style>\n",
              "<table border=\"1\" class=\"dataframe\">\n",
              "  <thead>\n",
              "    <tr style=\"text-align: right;\">\n",
              "      <th></th>\n",
              "      <th>year</th>\n",
              "      <th>rank</th>\n",
              "      <th>name</th>\n",
              "      <th>net_worth</th>\n",
              "      <th>age</th>\n",
              "      <th>nationality</th>\n",
              "      <th>source_wealth</th>\n",
              "      <th>year_new</th>\n",
              "      <th>new_worth</th>\n",
              "    </tr>\n",
              "  </thead>\n",
              "  <tbody>\n",
              "    <tr>\n",
              "      <th>88</th>\n",
              "      <td>2011</td>\n",
              "      <td>9</td>\n",
              "      <td>Mukesh Ambani</td>\n",
              "      <td>27.0</td>\n",
              "      <td>54</td>\n",
              "      <td>India</td>\n",
              "      <td>Reliance Industries</td>\n",
              "      <td>2011</td>\n",
              "      <td>27</td>\n",
              "    </tr>\n",
              "    <tr>\n",
              "      <th>93</th>\n",
              "      <td>2010</td>\n",
              "      <td>4</td>\n",
              "      <td>Mukesh Ambani</td>\n",
              "      <td>29.0</td>\n",
              "      <td>53</td>\n",
              "      <td>India</td>\n",
              "      <td>Reliance Industries</td>\n",
              "      <td>2010</td>\n",
              "      <td>29</td>\n",
              "    </tr>\n",
              "    <tr>\n",
              "      <th>106</th>\n",
              "      <td>2009</td>\n",
              "      <td>7</td>\n",
              "      <td>Mukesh Ambani</td>\n",
              "      <td>19.5</td>\n",
              "      <td>52</td>\n",
              "      <td>India</td>\n",
              "      <td>Reliance Industries</td>\n",
              "      <td>2009</td>\n",
              "      <td>19.5</td>\n",
              "    </tr>\n",
              "    <tr>\n",
              "      <th>114</th>\n",
              "      <td>2008</td>\n",
              "      <td>5</td>\n",
              "      <td>Mukesh Ambani</td>\n",
              "      <td>43.0</td>\n",
              "      <td>51</td>\n",
              "      <td>India</td>\n",
              "      <td>Reliance Industries</td>\n",
              "      <td>2008</td>\n",
              "      <td>43</td>\n",
              "    </tr>\n",
              "  </tbody>\n",
              "</table>\n",
              "</div>"
            ],
            "text/plain": [
              "     year rank           name  net_worth  age nationality  \\\n",
              "88   2011    9  Mukesh Ambani       27.0   54       India   \n",
              "93   2010    4  Mukesh Ambani       29.0   53       India   \n",
              "106  2009    7  Mukesh Ambani       19.5   52       India   \n",
              "114  2008    5  Mukesh Ambani       43.0   51       India   \n",
              "\n",
              "           source_wealth year_new new_worth  \n",
              "88   Reliance Industries     2011        27  \n",
              "93   Reliance Industries     2010        29  \n",
              "106  Reliance Industries     2009      19.5  \n",
              "114  Reliance Industries     2008        43  "
            ]
          },
          "metadata": {
            "tags": []
          },
          "execution_count": 143
        }
      ]
    },
    {
      "cell_type": "code",
      "metadata": {
        "trusted": true,
        "id": "E_-xbwKZOH7t",
        "colab_type": "code",
        "outputId": "fdc4cd33-c0db-4d3f-a970-a05e0cb1a205",
        "colab": {
          "base_uri": "https://localhost:8080/",
          "height": 669
        }
      },
      "source": [
        "data_by_year=data.groupby('year')\n",
        "data_by_year.describe()"
      ],
      "execution_count": 144,
      "outputs": [
        {
          "output_type": "execute_result",
          "data": {
            "text/html": [
              "<div>\n",
              "<style scoped>\n",
              "    .dataframe tbody tr th:only-of-type {\n",
              "        vertical-align: middle;\n",
              "    }\n",
              "\n",
              "    .dataframe tbody tr th {\n",
              "        vertical-align: top;\n",
              "    }\n",
              "\n",
              "    .dataframe thead tr th {\n",
              "        text-align: left;\n",
              "    }\n",
              "\n",
              "    .dataframe thead tr:last-of-type th {\n",
              "        text-align: right;\n",
              "    }\n",
              "</style>\n",
              "<table border=\"1\" class=\"dataframe\">\n",
              "  <thead>\n",
              "    <tr>\n",
              "      <th></th>\n",
              "      <th colspan=\"8\" halign=\"left\">net_worth</th>\n",
              "      <th colspan=\"8\" halign=\"left\">age</th>\n",
              "    </tr>\n",
              "    <tr>\n",
              "      <th></th>\n",
              "      <th>count</th>\n",
              "      <th>mean</th>\n",
              "      <th>std</th>\n",
              "      <th>min</th>\n",
              "      <th>25%</th>\n",
              "      <th>50%</th>\n",
              "      <th>75%</th>\n",
              "      <th>max</th>\n",
              "      <th>count</th>\n",
              "      <th>mean</th>\n",
              "      <th>std</th>\n",
              "      <th>min</th>\n",
              "      <th>25%</th>\n",
              "      <th>50%</th>\n",
              "      <th>75%</th>\n",
              "      <th>max</th>\n",
              "    </tr>\n",
              "    <tr>\n",
              "      <th>year</th>\n",
              "      <th></th>\n",
              "      <th></th>\n",
              "      <th></th>\n",
              "      <th></th>\n",
              "      <th></th>\n",
              "      <th></th>\n",
              "      <th></th>\n",
              "      <th></th>\n",
              "      <th></th>\n",
              "      <th></th>\n",
              "      <th></th>\n",
              "      <th></th>\n",
              "      <th></th>\n",
              "      <th></th>\n",
              "      <th></th>\n",
              "      <th></th>\n",
              "    </tr>\n",
              "  </thead>\n",
              "  <tbody>\n",
              "    <tr>\n",
              "      <th>2002</th>\n",
              "      <td>10.0</td>\n",
              "      <td>27.52</td>\n",
              "      <td>14.434665</td>\n",
              "      <td>16.1</td>\n",
              "      <td>19.550</td>\n",
              "      <td>20.00</td>\n",
              "      <td>27.400</td>\n",
              "      <td>60.0</td>\n",
              "      <td>10.0</td>\n",
              "      <td>55.0</td>\n",
              "      <td>15.570628</td>\n",
              "      <td>35.0</td>\n",
              "      <td>43.25</td>\n",
              "      <td>51.0</td>\n",
              "      <td>66.00</td>\n",
              "      <td>80.0</td>\n",
              "    </tr>\n",
              "    <tr>\n",
              "      <th>2003</th>\n",
              "      <td>10.0</td>\n",
              "      <td>26.63</td>\n",
              "      <td>10.266889</td>\n",
              "      <td>20.5</td>\n",
              "      <td>20.550</td>\n",
              "      <td>22.15</td>\n",
              "      <td>26.400</td>\n",
              "      <td>52.8</td>\n",
              "      <td>10.0</td>\n",
              "      <td>60.8</td>\n",
              "      <td>12.968338</td>\n",
              "      <td>46.0</td>\n",
              "      <td>53.25</td>\n",
              "      <td>56.5</td>\n",
              "      <td>67.75</td>\n",
              "      <td>82.0</td>\n",
              "    </tr>\n",
              "    <tr>\n",
              "      <th>2004</th>\n",
              "      <td>10.0</td>\n",
              "      <td>25.50</td>\n",
              "      <td>10.229152</td>\n",
              "      <td>20.0</td>\n",
              "      <td>20.000</td>\n",
              "      <td>20.50</td>\n",
              "      <td>22.625</td>\n",
              "      <td>46.6</td>\n",
              "      <td>10.0</td>\n",
              "      <td>61.6</td>\n",
              "      <td>13.882043</td>\n",
              "      <td>47.0</td>\n",
              "      <td>52.00</td>\n",
              "      <td>57.0</td>\n",
              "      <td>69.75</td>\n",
              "      <td>84.0</td>\n",
              "    </tr>\n",
              "    <tr>\n",
              "      <th>2005</th>\n",
              "      <td>10.0</td>\n",
              "      <td>26.22</td>\n",
              "      <td>10.339761</td>\n",
              "      <td>18.3</td>\n",
              "      <td>19.125</td>\n",
              "      <td>23.35</td>\n",
              "      <td>24.700</td>\n",
              "      <td>46.5</td>\n",
              "      <td>10.0</td>\n",
              "      <td>62.8</td>\n",
              "      <td>12.787146</td>\n",
              "      <td>49.0</td>\n",
              "      <td>52.50</td>\n",
              "      <td>60.5</td>\n",
              "      <td>71.75</td>\n",
              "      <td>85.0</td>\n",
              "    </tr>\n",
              "    <tr>\n",
              "      <th>2006</th>\n",
              "      <td>10.0</td>\n",
              "      <td>27.74</td>\n",
              "      <td>11.020304</td>\n",
              "      <td>18.8</td>\n",
              "      <td>20.375</td>\n",
              "      <td>22.75</td>\n",
              "      <td>29.500</td>\n",
              "      <td>52.0</td>\n",
              "      <td>10.0</td>\n",
              "      <td>64.3</td>\n",
              "      <td>12.970479</td>\n",
              "      <td>49.0</td>\n",
              "      <td>53.50</td>\n",
              "      <td>61.5</td>\n",
              "      <td>76.50</td>\n",
              "      <td>82.0</td>\n",
              "    </tr>\n",
              "    <tr>\n",
              "      <th>2007</th>\n",
              "      <td>10.0</td>\n",
              "      <td>34.35</td>\n",
              "      <td>13.004380</td>\n",
              "      <td>22.0</td>\n",
              "      <td>24.500</td>\n",
              "      <td>29.25</td>\n",
              "      <td>45.000</td>\n",
              "      <td>56.0</td>\n",
              "      <td>10.0</td>\n",
              "      <td>65.9</td>\n",
              "      <td>11.512795</td>\n",
              "      <td>49.0</td>\n",
              "      <td>56.50</td>\n",
              "      <td>69.0</td>\n",
              "      <td>75.25</td>\n",
              "      <td>80.0</td>\n",
              "    </tr>\n",
              "    <tr>\n",
              "      <th>2008</th>\n",
              "      <td>10.0</td>\n",
              "      <td>42.60</td>\n",
              "      <td>13.631662</td>\n",
              "      <td>27.0</td>\n",
              "      <td>30.250</td>\n",
              "      <td>42.50</td>\n",
              "      <td>54.750</td>\n",
              "      <td>62.0</td>\n",
              "      <td>10.0</td>\n",
              "      <td>63.8</td>\n",
              "      <td>16.287691</td>\n",
              "      <td>40.0</td>\n",
              "      <td>51.25</td>\n",
              "      <td>62.5</td>\n",
              "      <td>76.75</td>\n",
              "      <td>88.0</td>\n",
              "    </tr>\n",
              "    <tr>\n",
              "      <th>2009</th>\n",
              "      <td>10.0</td>\n",
              "      <td>25.39</td>\n",
              "      <td>8.439648</td>\n",
              "      <td>18.3</td>\n",
              "      <td>19.350</td>\n",
              "      <td>21.75</td>\n",
              "      <td>31.875</td>\n",
              "      <td>40.0</td>\n",
              "      <td>10.0</td>\n",
              "      <td>70.6</td>\n",
              "      <td>13.672357</td>\n",
              "      <td>52.0</td>\n",
              "      <td>59.50</td>\n",
              "      <td>71.0</td>\n",
              "      <td>81.75</td>\n",
              "      <td>89.0</td>\n",
              "    </tr>\n",
              "    <tr>\n",
              "      <th>2010</th>\n",
              "      <td>10.0</td>\n",
              "      <td>34.22</td>\n",
              "      <td>11.932011</td>\n",
              "      <td>23.5</td>\n",
              "      <td>27.125</td>\n",
              "      <td>28.35</td>\n",
              "      <td>42.500</td>\n",
              "      <td>53.5</td>\n",
              "      <td>10.0</td>\n",
              "      <td>66.0</td>\n",
              "      <td>12.328828</td>\n",
              "      <td>53.0</td>\n",
              "      <td>55.50</td>\n",
              "      <td>63.5</td>\n",
              "      <td>73.00</td>\n",
              "      <td>90.0</td>\n",
              "    </tr>\n",
              "    <tr>\n",
              "      <th>2011</th>\n",
              "      <td>10.0</td>\n",
              "      <td>40.61</td>\n",
              "      <td>15.351399</td>\n",
              "      <td>26.5</td>\n",
              "      <td>30.250</td>\n",
              "      <td>35.30</td>\n",
              "      <td>47.750</td>\n",
              "      <td>74.0</td>\n",
              "      <td>10.0</td>\n",
              "      <td>63.7</td>\n",
              "      <td>9.031427</td>\n",
              "      <td>53.0</td>\n",
              "      <td>56.25</td>\n",
              "      <td>62.0</td>\n",
              "      <td>69.75</td>\n",
              "      <td>80.0</td>\n",
              "    </tr>\n",
              "    <tr>\n",
              "      <th>2012</th>\n",
              "      <td>10.0</td>\n",
              "      <td>39.54</td>\n",
              "      <td>15.050079</td>\n",
              "      <td>25.4</td>\n",
              "      <td>27.000</td>\n",
              "      <td>36.75</td>\n",
              "      <td>43.250</td>\n",
              "      <td>69.0</td>\n",
              "      <td>10.0</td>\n",
              "      <td>70.8</td>\n",
              "      <td>12.072006</td>\n",
              "      <td>55.0</td>\n",
              "      <td>63.25</td>\n",
              "      <td>69.5</td>\n",
              "      <td>79.50</td>\n",
              "      <td>92.0</td>\n",
              "    </tr>\n",
              "    <tr>\n",
              "      <th>2013</th>\n",
              "      <td>10.0</td>\n",
              "      <td>45.15</td>\n",
              "      <td>16.353814</td>\n",
              "      <td>29.0</td>\n",
              "      <td>31.750</td>\n",
              "      <td>38.50</td>\n",
              "      <td>56.125</td>\n",
              "      <td>73.0</td>\n",
              "      <td>10.0</td>\n",
              "      <td>74.2</td>\n",
              "      <td>9.908470</td>\n",
              "      <td>57.0</td>\n",
              "      <td>69.00</td>\n",
              "      <td>74.5</td>\n",
              "      <td>80.75</td>\n",
              "      <td>90.0</td>\n",
              "    </tr>\n",
              "    <tr>\n",
              "      <th>2014</th>\n",
              "      <td>10.0</td>\n",
              "      <td>50.76</td>\n",
              "      <td>15.550791</td>\n",
              "      <td>34.7</td>\n",
              "      <td>38.500</td>\n",
              "      <td>44.00</td>\n",
              "      <td>62.550</td>\n",
              "      <td>76.0</td>\n",
              "      <td>10.0</td>\n",
              "      <td>72.3</td>\n",
              "      <td>7.803845</td>\n",
              "      <td>58.0</td>\n",
              "      <td>66.25</td>\n",
              "      <td>73.5</td>\n",
              "      <td>77.75</td>\n",
              "      <td>83.0</td>\n",
              "    </tr>\n",
              "    <tr>\n",
              "      <th>2015</th>\n",
              "      <td>10.0</td>\n",
              "      <td>55.60</td>\n",
              "      <td>16.239732</td>\n",
              "      <td>40.1</td>\n",
              "      <td>42.000</td>\n",
              "      <td>48.60</td>\n",
              "      <td>70.650</td>\n",
              "      <td>79.2</td>\n",
              "      <td>10.0</td>\n",
              "      <td>74.3</td>\n",
              "      <td>9.626930</td>\n",
              "      <td>59.0</td>\n",
              "      <td>67.00</td>\n",
              "      <td>74.5</td>\n",
              "      <td>78.75</td>\n",
              "      <td>92.0</td>\n",
              "    </tr>\n",
              "    <tr>\n",
              "      <th>2016</th>\n",
              "      <td>10.0</td>\n",
              "      <td>50.54</td>\n",
              "      <td>12.636824</td>\n",
              "      <td>39.6</td>\n",
              "      <td>40.900</td>\n",
              "      <td>44.90</td>\n",
              "      <td>58.100</td>\n",
              "      <td>75.0</td>\n",
              "      <td>10.0</td>\n",
              "      <td>68.3</td>\n",
              "      <td>16.330272</td>\n",
              "      <td>31.0</td>\n",
              "      <td>62.75</td>\n",
              "      <td>74.5</td>\n",
              "      <td>78.25</td>\n",
              "      <td>85.0</td>\n",
              "    </tr>\n",
              "    <tr>\n",
              "      <th>2017</th>\n",
              "      <td>10.0</td>\n",
              "      <td>61.25</td>\n",
              "      <td>13.873976</td>\n",
              "      <td>47.5</td>\n",
              "      <td>49.275</td>\n",
              "      <td>55.25</td>\n",
              "      <td>72.425</td>\n",
              "      <td>86.0</td>\n",
              "      <td>10.0</td>\n",
              "      <td>69.3</td>\n",
              "      <td>16.330272</td>\n",
              "      <td>32.0</td>\n",
              "      <td>63.75</td>\n",
              "      <td>75.5</td>\n",
              "      <td>79.25</td>\n",
              "      <td>86.0</td>\n",
              "    </tr>\n",
              "    <tr>\n",
              "      <th>2018</th>\n",
              "      <td>10.0</td>\n",
              "      <td>74.46</td>\n",
              "      <td>16.689132</td>\n",
              "      <td>58.5</td>\n",
              "      <td>61.775</td>\n",
              "      <td>70.50</td>\n",
              "      <td>81.000</td>\n",
              "      <td>112.0</td>\n",
              "      <td>10.0</td>\n",
              "      <td>69.6</td>\n",
              "      <td>16.208365</td>\n",
              "      <td>33.0</td>\n",
              "      <td>63.75</td>\n",
              "      <td>75.0</td>\n",
              "      <td>80.25</td>\n",
              "      <td>87.0</td>\n",
              "    </tr>\n",
              "    <tr>\n",
              "      <th>2019</th>\n",
              "      <td>10.0</td>\n",
              "      <td>74.38</td>\n",
              "      <td>24.054050</td>\n",
              "      <td>50.8</td>\n",
              "      <td>62.350</td>\n",
              "      <td>63.35</td>\n",
              "      <td>80.875</td>\n",
              "      <td>131.0</td>\n",
              "      <td>10.0</td>\n",
              "      <td>66.7</td>\n",
              "      <td>17.320829</td>\n",
              "      <td>34.0</td>\n",
              "      <td>57.00</td>\n",
              "      <td>72.0</td>\n",
              "      <td>78.50</td>\n",
              "      <td>88.0</td>\n",
              "    </tr>\n",
              "  </tbody>\n",
              "</table>\n",
              "</div>"
            ],
            "text/plain": [
              "     net_worth                                                         age  \\\n",
              "         count   mean        std   min     25%    50%     75%    max count   \n",
              "year                                                                         \n",
              "2002      10.0  27.52  14.434665  16.1  19.550  20.00  27.400   60.0  10.0   \n",
              "2003      10.0  26.63  10.266889  20.5  20.550  22.15  26.400   52.8  10.0   \n",
              "2004      10.0  25.50  10.229152  20.0  20.000  20.50  22.625   46.6  10.0   \n",
              "2005      10.0  26.22  10.339761  18.3  19.125  23.35  24.700   46.5  10.0   \n",
              "2006      10.0  27.74  11.020304  18.8  20.375  22.75  29.500   52.0  10.0   \n",
              "2007      10.0  34.35  13.004380  22.0  24.500  29.25  45.000   56.0  10.0   \n",
              "2008      10.0  42.60  13.631662  27.0  30.250  42.50  54.750   62.0  10.0   \n",
              "2009      10.0  25.39   8.439648  18.3  19.350  21.75  31.875   40.0  10.0   \n",
              "2010      10.0  34.22  11.932011  23.5  27.125  28.35  42.500   53.5  10.0   \n",
              "2011      10.0  40.61  15.351399  26.5  30.250  35.30  47.750   74.0  10.0   \n",
              "2012      10.0  39.54  15.050079  25.4  27.000  36.75  43.250   69.0  10.0   \n",
              "2013      10.0  45.15  16.353814  29.0  31.750  38.50  56.125   73.0  10.0   \n",
              "2014      10.0  50.76  15.550791  34.7  38.500  44.00  62.550   76.0  10.0   \n",
              "2015      10.0  55.60  16.239732  40.1  42.000  48.60  70.650   79.2  10.0   \n",
              "2016      10.0  50.54  12.636824  39.6  40.900  44.90  58.100   75.0  10.0   \n",
              "2017      10.0  61.25  13.873976  47.5  49.275  55.25  72.425   86.0  10.0   \n",
              "2018      10.0  74.46  16.689132  58.5  61.775  70.50  81.000  112.0  10.0   \n",
              "2019      10.0  74.38  24.054050  50.8  62.350  63.35  80.875  131.0  10.0   \n",
              "\n",
              "                                                       \n",
              "      mean        std   min    25%   50%    75%   max  \n",
              "year                                                   \n",
              "2002  55.0  15.570628  35.0  43.25  51.0  66.00  80.0  \n",
              "2003  60.8  12.968338  46.0  53.25  56.5  67.75  82.0  \n",
              "2004  61.6  13.882043  47.0  52.00  57.0  69.75  84.0  \n",
              "2005  62.8  12.787146  49.0  52.50  60.5  71.75  85.0  \n",
              "2006  64.3  12.970479  49.0  53.50  61.5  76.50  82.0  \n",
              "2007  65.9  11.512795  49.0  56.50  69.0  75.25  80.0  \n",
              "2008  63.8  16.287691  40.0  51.25  62.5  76.75  88.0  \n",
              "2009  70.6  13.672357  52.0  59.50  71.0  81.75  89.0  \n",
              "2010  66.0  12.328828  53.0  55.50  63.5  73.00  90.0  \n",
              "2011  63.7   9.031427  53.0  56.25  62.0  69.75  80.0  \n",
              "2012  70.8  12.072006  55.0  63.25  69.5  79.50  92.0  \n",
              "2013  74.2   9.908470  57.0  69.00  74.5  80.75  90.0  \n",
              "2014  72.3   7.803845  58.0  66.25  73.5  77.75  83.0  \n",
              "2015  74.3   9.626930  59.0  67.00  74.5  78.75  92.0  \n",
              "2016  68.3  16.330272  31.0  62.75  74.5  78.25  85.0  \n",
              "2017  69.3  16.330272  32.0  63.75  75.5  79.25  86.0  \n",
              "2018  69.6  16.208365  33.0  63.75  75.0  80.25  87.0  \n",
              "2019  66.7  17.320829  34.0  57.00  72.0  78.50  88.0  "
            ]
          },
          "metadata": {
            "tags": []
          },
          "execution_count": 144
        }
      ]
    },
    {
      "cell_type": "code",
      "metadata": {
        "id": "zxf9_q6MrKeE",
        "colab_type": "code",
        "colab": {
          "base_uri": "https://localhost:8080/",
          "height": 481
        },
        "outputId": "6a600e61-dbf8-4803-fbac-52f23ebdf91b"
      },
      "source": [
        "data.groupby(by=[\"year\",\"age\"]).describe()"
      ],
      "execution_count": 145,
      "outputs": [
        {
          "output_type": "execute_result",
          "data": {
            "text/html": [
              "<div>\n",
              "<style scoped>\n",
              "    .dataframe tbody tr th:only-of-type {\n",
              "        vertical-align: middle;\n",
              "    }\n",
              "\n",
              "    .dataframe tbody tr th {\n",
              "        vertical-align: top;\n",
              "    }\n",
              "\n",
              "    .dataframe thead tr th {\n",
              "        text-align: left;\n",
              "    }\n",
              "\n",
              "    .dataframe thead tr:last-of-type th {\n",
              "        text-align: right;\n",
              "    }\n",
              "</style>\n",
              "<table border=\"1\" class=\"dataframe\">\n",
              "  <thead>\n",
              "    <tr>\n",
              "      <th></th>\n",
              "      <th></th>\n",
              "      <th colspan=\"8\" halign=\"left\">net_worth</th>\n",
              "    </tr>\n",
              "    <tr>\n",
              "      <th></th>\n",
              "      <th></th>\n",
              "      <th>count</th>\n",
              "      <th>mean</th>\n",
              "      <th>std</th>\n",
              "      <th>min</th>\n",
              "      <th>25%</th>\n",
              "      <th>50%</th>\n",
              "      <th>75%</th>\n",
              "      <th>max</th>\n",
              "    </tr>\n",
              "    <tr>\n",
              "      <th>year</th>\n",
              "      <th>age</th>\n",
              "      <th></th>\n",
              "      <th></th>\n",
              "      <th></th>\n",
              "      <th></th>\n",
              "      <th></th>\n",
              "      <th></th>\n",
              "      <th></th>\n",
              "      <th></th>\n",
              "    </tr>\n",
              "  </thead>\n",
              "  <tbody>\n",
              "    <tr>\n",
              "      <th rowspan=\"5\" valign=\"top\">2002</th>\n",
              "      <th>35</th>\n",
              "      <td>1.0</td>\n",
              "      <td>19.1</td>\n",
              "      <td>NaN</td>\n",
              "      <td>19.1</td>\n",
              "      <td>19.10</td>\n",
              "      <td>19.1</td>\n",
              "      <td>19.10</td>\n",
              "      <td>19.1</td>\n",
              "    </tr>\n",
              "    <tr>\n",
              "      <th>43</th>\n",
              "      <td>2.0</td>\n",
              "      <td>19.7</td>\n",
              "      <td>0.424264</td>\n",
              "      <td>19.4</td>\n",
              "      <td>19.55</td>\n",
              "      <td>19.7</td>\n",
              "      <td>19.85</td>\n",
              "      <td>20.0</td>\n",
              "    </tr>\n",
              "    <tr>\n",
              "      <th>44</th>\n",
              "      <td>1.0</td>\n",
              "      <td>60.0</td>\n",
              "      <td>NaN</td>\n",
              "      <td>60.0</td>\n",
              "      <td>60.00</td>\n",
              "      <td>60.0</td>\n",
              "      <td>60.00</td>\n",
              "      <td>60.0</td>\n",
              "    </tr>\n",
              "    <tr>\n",
              "      <th>47</th>\n",
              "      <td>1.0</td>\n",
              "      <td>28.0</td>\n",
              "      <td>NaN</td>\n",
              "      <td>28.0</td>\n",
              "      <td>28.00</td>\n",
              "      <td>28.0</td>\n",
              "      <td>28.00</td>\n",
              "      <td>28.0</td>\n",
              "    </tr>\n",
              "    <tr>\n",
              "      <th>55</th>\n",
              "      <td>1.0</td>\n",
              "      <td>47.0</td>\n",
              "      <td>NaN</td>\n",
              "      <td>47.0</td>\n",
              "      <td>47.00</td>\n",
              "      <td>47.0</td>\n",
              "      <td>47.00</td>\n",
              "      <td>47.0</td>\n",
              "    </tr>\n",
              "    <tr>\n",
              "      <th>...</th>\n",
              "      <th>...</th>\n",
              "      <td>...</td>\n",
              "      <td>...</td>\n",
              "      <td>...</td>\n",
              "      <td>...</td>\n",
              "      <td>...</td>\n",
              "      <td>...</td>\n",
              "      <td>...</td>\n",
              "      <td>...</td>\n",
              "    </tr>\n",
              "    <tr>\n",
              "      <th rowspan=\"5\" valign=\"top\">2019</th>\n",
              "      <th>74</th>\n",
              "      <td>1.0</td>\n",
              "      <td>62.5</td>\n",
              "      <td>NaN</td>\n",
              "      <td>62.5</td>\n",
              "      <td>62.50</td>\n",
              "      <td>62.5</td>\n",
              "      <td>62.50</td>\n",
              "      <td>62.5</td>\n",
              "    </tr>\n",
              "    <tr>\n",
              "      <th>77</th>\n",
              "      <td>1.0</td>\n",
              "      <td>55.5</td>\n",
              "      <td>NaN</td>\n",
              "      <td>55.5</td>\n",
              "      <td>55.50</td>\n",
              "      <td>55.5</td>\n",
              "      <td>55.50</td>\n",
              "      <td>55.5</td>\n",
              "    </tr>\n",
              "    <tr>\n",
              "      <th>79</th>\n",
              "      <td>1.0</td>\n",
              "      <td>64.0</td>\n",
              "      <td>NaN</td>\n",
              "      <td>64.0</td>\n",
              "      <td>64.00</td>\n",
              "      <td>64.0</td>\n",
              "      <td>64.00</td>\n",
              "      <td>64.0</td>\n",
              "    </tr>\n",
              "    <tr>\n",
              "      <th>82</th>\n",
              "      <td>1.0</td>\n",
              "      <td>62.7</td>\n",
              "      <td>NaN</td>\n",
              "      <td>62.7</td>\n",
              "      <td>62.70</td>\n",
              "      <td>62.7</td>\n",
              "      <td>62.70</td>\n",
              "      <td>62.7</td>\n",
              "    </tr>\n",
              "    <tr>\n",
              "      <th>88</th>\n",
              "      <td>1.0</td>\n",
              "      <td>82.5</td>\n",
              "      <td>NaN</td>\n",
              "      <td>82.5</td>\n",
              "      <td>82.50</td>\n",
              "      <td>82.5</td>\n",
              "      <td>82.50</td>\n",
              "      <td>82.5</td>\n",
              "    </tr>\n",
              "  </tbody>\n",
              "</table>\n",
              "<p>172 rows × 8 columns</p>\n",
              "</div>"
            ],
            "text/plain": [
              "         net_worth                                                \n",
              "             count  mean       std   min    25%   50%    75%   max\n",
              "year age                                                          \n",
              "2002 35        1.0  19.1       NaN  19.1  19.10  19.1  19.10  19.1\n",
              "     43        2.0  19.7  0.424264  19.4  19.55  19.7  19.85  20.0\n",
              "     44        1.0  60.0       NaN  60.0  60.00  60.0  60.00  60.0\n",
              "     47        1.0  28.0       NaN  28.0  28.00  28.0  28.00  28.0\n",
              "     55        1.0  47.0       NaN  47.0  47.00  47.0  47.00  47.0\n",
              "...            ...   ...       ...   ...    ...   ...    ...   ...\n",
              "2019 74        1.0  62.5       NaN  62.5  62.50  62.5  62.50  62.5\n",
              "     77        1.0  55.5       NaN  55.5  55.50  55.5  55.50  55.5\n",
              "     79        1.0  64.0       NaN  64.0  64.00  64.0  64.00  64.0\n",
              "     82        1.0  62.7       NaN  62.7  62.70  62.7  62.70  62.7\n",
              "     88        1.0  82.5       NaN  82.5  82.50  82.5  82.50  82.5\n",
              "\n",
              "[172 rows x 8 columns]"
            ]
          },
          "metadata": {
            "tags": []
          },
          "execution_count": 145
        }
      ]
    },
    {
      "cell_type": "markdown",
      "metadata": {
        "id": "yxh3IPQ2OH7w",
        "colab_type": "text"
      },
      "source": [
        "Describe funtion in python is a powerful when trying to get statistical details of entire data, as above we can see mean, median and mode details of each column.\n",
        "For 2002 mean age of billionair is 55 and in 2019 mean age is 66.7, \n",
        "For 2002 mean networth of billionair is 27.53 and in 2019 mean networth is 74.38"
      ]
    },
    {
      "cell_type": "markdown",
      "metadata": {
        "id": "tia3DKIGOH7w",
        "colab_type": "text"
      },
      "source": [
        "**Descriptive statistics** is the summary given data set. Descriptive statistics are broken down into 1. Measures of Central Tendency and 2. Measures of Spread"
      ]
    },
    {
      "cell_type": "markdown",
      "metadata": {
        "id": "P0i3L5nuVD5g",
        "colab_type": "text"
      },
      "source": [
        "# **Measures of Central Tendency**\n",
        "\n",
        "The obvious question when looking at a salary dataset is \"How much do people make?\". And when asking that nobody is interested to get 100s of rows of data. They want just a single number which can represent the entire dataset. And that's exactly what Central Tendency seeks to do. There are three measures of central tendency viz. **Mean, Median, Mode**\n",
        "\n"
      ]
    },
    {
      "cell_type": "markdown",
      "metadata": {
        "id": "k1caehFFVUB8",
        "colab_type": "text"
      },
      "source": [
        "**MEAN**: The mean is the average value."
      ]
    },
    {
      "cell_type": "code",
      "metadata": {
        "id": "XgFvTAWIVWwv",
        "colab_type": "code",
        "outputId": "94eec385-78b6-44d6-b88a-39bf8918198b",
        "colab": {
          "base_uri": "https://localhost:8080/",
          "height": 638
        }
      },
      "source": [
        "data_by_year[['net_worth','age']].mean()"
      ],
      "execution_count": 146,
      "outputs": [
        {
          "output_type": "execute_result",
          "data": {
            "text/html": [
              "<div>\n",
              "<style scoped>\n",
              "    .dataframe tbody tr th:only-of-type {\n",
              "        vertical-align: middle;\n",
              "    }\n",
              "\n",
              "    .dataframe tbody tr th {\n",
              "        vertical-align: top;\n",
              "    }\n",
              "\n",
              "    .dataframe thead th {\n",
              "        text-align: right;\n",
              "    }\n",
              "</style>\n",
              "<table border=\"1\" class=\"dataframe\">\n",
              "  <thead>\n",
              "    <tr style=\"text-align: right;\">\n",
              "      <th></th>\n",
              "      <th>net_worth</th>\n",
              "      <th>age</th>\n",
              "    </tr>\n",
              "    <tr>\n",
              "      <th>year</th>\n",
              "      <th></th>\n",
              "      <th></th>\n",
              "    </tr>\n",
              "  </thead>\n",
              "  <tbody>\n",
              "    <tr>\n",
              "      <th>2002</th>\n",
              "      <td>27.52</td>\n",
              "      <td>55.0</td>\n",
              "    </tr>\n",
              "    <tr>\n",
              "      <th>2003</th>\n",
              "      <td>26.63</td>\n",
              "      <td>60.8</td>\n",
              "    </tr>\n",
              "    <tr>\n",
              "      <th>2004</th>\n",
              "      <td>25.50</td>\n",
              "      <td>61.6</td>\n",
              "    </tr>\n",
              "    <tr>\n",
              "      <th>2005</th>\n",
              "      <td>26.22</td>\n",
              "      <td>62.8</td>\n",
              "    </tr>\n",
              "    <tr>\n",
              "      <th>2006</th>\n",
              "      <td>27.74</td>\n",
              "      <td>64.3</td>\n",
              "    </tr>\n",
              "    <tr>\n",
              "      <th>2007</th>\n",
              "      <td>34.35</td>\n",
              "      <td>65.9</td>\n",
              "    </tr>\n",
              "    <tr>\n",
              "      <th>2008</th>\n",
              "      <td>42.60</td>\n",
              "      <td>63.8</td>\n",
              "    </tr>\n",
              "    <tr>\n",
              "      <th>2009</th>\n",
              "      <td>25.39</td>\n",
              "      <td>70.6</td>\n",
              "    </tr>\n",
              "    <tr>\n",
              "      <th>2010</th>\n",
              "      <td>34.22</td>\n",
              "      <td>66.0</td>\n",
              "    </tr>\n",
              "    <tr>\n",
              "      <th>2011</th>\n",
              "      <td>40.61</td>\n",
              "      <td>63.7</td>\n",
              "    </tr>\n",
              "    <tr>\n",
              "      <th>2012</th>\n",
              "      <td>39.54</td>\n",
              "      <td>70.8</td>\n",
              "    </tr>\n",
              "    <tr>\n",
              "      <th>2013</th>\n",
              "      <td>45.15</td>\n",
              "      <td>74.2</td>\n",
              "    </tr>\n",
              "    <tr>\n",
              "      <th>2014</th>\n",
              "      <td>50.76</td>\n",
              "      <td>72.3</td>\n",
              "    </tr>\n",
              "    <tr>\n",
              "      <th>2015</th>\n",
              "      <td>55.60</td>\n",
              "      <td>74.3</td>\n",
              "    </tr>\n",
              "    <tr>\n",
              "      <th>2016</th>\n",
              "      <td>50.54</td>\n",
              "      <td>68.3</td>\n",
              "    </tr>\n",
              "    <tr>\n",
              "      <th>2017</th>\n",
              "      <td>61.25</td>\n",
              "      <td>69.3</td>\n",
              "    </tr>\n",
              "    <tr>\n",
              "      <th>2018</th>\n",
              "      <td>74.46</td>\n",
              "      <td>69.6</td>\n",
              "    </tr>\n",
              "    <tr>\n",
              "      <th>2019</th>\n",
              "      <td>74.38</td>\n",
              "      <td>66.7</td>\n",
              "    </tr>\n",
              "  </tbody>\n",
              "</table>\n",
              "</div>"
            ],
            "text/plain": [
              "      net_worth   age\n",
              "year                 \n",
              "2002      27.52  55.0\n",
              "2003      26.63  60.8\n",
              "2004      25.50  61.6\n",
              "2005      26.22  62.8\n",
              "2006      27.74  64.3\n",
              "2007      34.35  65.9\n",
              "2008      42.60  63.8\n",
              "2009      25.39  70.6\n",
              "2010      34.22  66.0\n",
              "2011      40.61  63.7\n",
              "2012      39.54  70.8\n",
              "2013      45.15  74.2\n",
              "2014      50.76  72.3\n",
              "2015      55.60  74.3\n",
              "2016      50.54  68.3\n",
              "2017      61.25  69.3\n",
              "2018      74.46  69.6\n",
              "2019      74.38  66.7"
            ]
          },
          "metadata": {
            "tags": []
          },
          "execution_count": 146
        }
      ]
    },
    {
      "cell_type": "markdown",
      "metadata": {
        "id": "ipwwxyXoXGtH",
        "colab_type": "text"
      },
      "source": [
        "**Observation** : Mean net_worth and age for each year is the average value of networth and age"
      ]
    },
    {
      "cell_type": "markdown",
      "metadata": {
        "id": "q88rVFvn1Kuv",
        "colab_type": "text"
      },
      "source": [
        "**Median** : Middle value of the numbers, arranged in ascending order"
      ]
    },
    {
      "cell_type": "code",
      "metadata": {
        "id": "DMVWt4BX1jVT",
        "colab_type": "code",
        "outputId": "a93a40b9-e749-4602-9a2d-ccf2d7d6b6d0",
        "colab": {
          "base_uri": "https://localhost:8080/",
          "height": 638
        }
      },
      "source": [
        "data_by_year[['net_worth','age']].median()"
      ],
      "execution_count": 147,
      "outputs": [
        {
          "output_type": "execute_result",
          "data": {
            "text/html": [
              "<div>\n",
              "<style scoped>\n",
              "    .dataframe tbody tr th:only-of-type {\n",
              "        vertical-align: middle;\n",
              "    }\n",
              "\n",
              "    .dataframe tbody tr th {\n",
              "        vertical-align: top;\n",
              "    }\n",
              "\n",
              "    .dataframe thead th {\n",
              "        text-align: right;\n",
              "    }\n",
              "</style>\n",
              "<table border=\"1\" class=\"dataframe\">\n",
              "  <thead>\n",
              "    <tr style=\"text-align: right;\">\n",
              "      <th></th>\n",
              "      <th>net_worth</th>\n",
              "      <th>age</th>\n",
              "    </tr>\n",
              "    <tr>\n",
              "      <th>year</th>\n",
              "      <th></th>\n",
              "      <th></th>\n",
              "    </tr>\n",
              "  </thead>\n",
              "  <tbody>\n",
              "    <tr>\n",
              "      <th>2002</th>\n",
              "      <td>20.00</td>\n",
              "      <td>51.0</td>\n",
              "    </tr>\n",
              "    <tr>\n",
              "      <th>2003</th>\n",
              "      <td>22.15</td>\n",
              "      <td>56.5</td>\n",
              "    </tr>\n",
              "    <tr>\n",
              "      <th>2004</th>\n",
              "      <td>20.50</td>\n",
              "      <td>57.0</td>\n",
              "    </tr>\n",
              "    <tr>\n",
              "      <th>2005</th>\n",
              "      <td>23.35</td>\n",
              "      <td>60.5</td>\n",
              "    </tr>\n",
              "    <tr>\n",
              "      <th>2006</th>\n",
              "      <td>22.75</td>\n",
              "      <td>61.5</td>\n",
              "    </tr>\n",
              "    <tr>\n",
              "      <th>2007</th>\n",
              "      <td>29.25</td>\n",
              "      <td>69.0</td>\n",
              "    </tr>\n",
              "    <tr>\n",
              "      <th>2008</th>\n",
              "      <td>42.50</td>\n",
              "      <td>62.5</td>\n",
              "    </tr>\n",
              "    <tr>\n",
              "      <th>2009</th>\n",
              "      <td>21.75</td>\n",
              "      <td>71.0</td>\n",
              "    </tr>\n",
              "    <tr>\n",
              "      <th>2010</th>\n",
              "      <td>28.35</td>\n",
              "      <td>63.5</td>\n",
              "    </tr>\n",
              "    <tr>\n",
              "      <th>2011</th>\n",
              "      <td>35.30</td>\n",
              "      <td>62.0</td>\n",
              "    </tr>\n",
              "    <tr>\n",
              "      <th>2012</th>\n",
              "      <td>36.75</td>\n",
              "      <td>69.5</td>\n",
              "    </tr>\n",
              "    <tr>\n",
              "      <th>2013</th>\n",
              "      <td>38.50</td>\n",
              "      <td>74.5</td>\n",
              "    </tr>\n",
              "    <tr>\n",
              "      <th>2014</th>\n",
              "      <td>44.00</td>\n",
              "      <td>73.5</td>\n",
              "    </tr>\n",
              "    <tr>\n",
              "      <th>2015</th>\n",
              "      <td>48.60</td>\n",
              "      <td>74.5</td>\n",
              "    </tr>\n",
              "    <tr>\n",
              "      <th>2016</th>\n",
              "      <td>44.90</td>\n",
              "      <td>74.5</td>\n",
              "    </tr>\n",
              "    <tr>\n",
              "      <th>2017</th>\n",
              "      <td>55.25</td>\n",
              "      <td>75.5</td>\n",
              "    </tr>\n",
              "    <tr>\n",
              "      <th>2018</th>\n",
              "      <td>70.50</td>\n",
              "      <td>75.0</td>\n",
              "    </tr>\n",
              "    <tr>\n",
              "      <th>2019</th>\n",
              "      <td>63.35</td>\n",
              "      <td>72.0</td>\n",
              "    </tr>\n",
              "  </tbody>\n",
              "</table>\n",
              "</div>"
            ],
            "text/plain": [
              "      net_worth   age\n",
              "year                 \n",
              "2002      20.00  51.0\n",
              "2003      22.15  56.5\n",
              "2004      20.50  57.0\n",
              "2005      23.35  60.5\n",
              "2006      22.75  61.5\n",
              "2007      29.25  69.0\n",
              "2008      42.50  62.5\n",
              "2009      21.75  71.0\n",
              "2010      28.35  63.5\n",
              "2011      35.30  62.0\n",
              "2012      36.75  69.5\n",
              "2013      38.50  74.5\n",
              "2014      44.00  73.5\n",
              "2015      48.60  74.5\n",
              "2016      44.90  74.5\n",
              "2017      55.25  75.5\n",
              "2018      70.50  75.0\n",
              "2019      63.35  72.0"
            ]
          },
          "metadata": {
            "tags": []
          },
          "execution_count": 147
        }
      ]
    },
    {
      "cell_type": "markdown",
      "metadata": {
        "id": "2hpUmNlrfguL",
        "colab_type": "text"
      },
      "source": [
        "**Mode** Most requently occuring value "
      ]
    },
    {
      "cell_type": "code",
      "metadata": {
        "id": "3x5Wb5wWfcfU",
        "colab_type": "code",
        "colab": {
          "base_uri": "https://localhost:8080/",
          "height": 173
        },
        "outputId": "da89cc9e-77eb-4116-be3b-0f5994ef6aaf"
      },
      "source": [
        "data.describe(include='object')"
      ],
      "execution_count": 148,
      "outputs": [
        {
          "output_type": "execute_result",
          "data": {
            "text/html": [
              "<div>\n",
              "<style scoped>\n",
              "    .dataframe tbody tr th:only-of-type {\n",
              "        vertical-align: middle;\n",
              "    }\n",
              "\n",
              "    .dataframe tbody tr th {\n",
              "        vertical-align: top;\n",
              "    }\n",
              "\n",
              "    .dataframe thead th {\n",
              "        text-align: right;\n",
              "    }\n",
              "</style>\n",
              "<table border=\"1\" class=\"dataframe\">\n",
              "  <thead>\n",
              "    <tr style=\"text-align: right;\">\n",
              "      <th></th>\n",
              "      <th>year</th>\n",
              "      <th>rank</th>\n",
              "      <th>name</th>\n",
              "      <th>nationality</th>\n",
              "      <th>source_wealth</th>\n",
              "      <th>year_new</th>\n",
              "      <th>new_worth</th>\n",
              "    </tr>\n",
              "  </thead>\n",
              "  <tbody>\n",
              "    <tr>\n",
              "      <th>count</th>\n",
              "      <td>180</td>\n",
              "      <td>180</td>\n",
              "      <td>180</td>\n",
              "      <td>180</td>\n",
              "      <td>180</td>\n",
              "      <td>180</td>\n",
              "      <td>180.0</td>\n",
              "    </tr>\n",
              "    <tr>\n",
              "      <th>unique</th>\n",
              "      <td>18</td>\n",
              "      <td>10</td>\n",
              "      <td>45</td>\n",
              "      <td>14</td>\n",
              "      <td>43</td>\n",
              "      <td>18</td>\n",
              "      <td>118.0</td>\n",
              "    </tr>\n",
              "    <tr>\n",
              "      <th>top</th>\n",
              "      <td>2015</td>\n",
              "      <td>6</td>\n",
              "      <td>Bill Gates</td>\n",
              "      <td>United States</td>\n",
              "      <td>Microsoft</td>\n",
              "      <td>2015</td>\n",
              "      <td>20.0</td>\n",
              "    </tr>\n",
              "    <tr>\n",
              "      <th>freq</th>\n",
              "      <td>10</td>\n",
              "      <td>25</td>\n",
              "      <td>18</td>\n",
              "      <td>99</td>\n",
              "      <td>23</td>\n",
              "      <td>10</td>\n",
              "      <td>9.0</td>\n",
              "    </tr>\n",
              "  </tbody>\n",
              "</table>\n",
              "</div>"
            ],
            "text/plain": [
              "        year  rank        name    nationality source_wealth  year_new  \\\n",
              "count    180   180         180            180           180       180   \n",
              "unique    18    10          45             14            43        18   \n",
              "top     2015     6  Bill Gates  United States     Microsoft      2015   \n",
              "freq      10    25          18             99            23        10   \n",
              "\n",
              "        new_worth  \n",
              "count       180.0  \n",
              "unique      118.0  \n",
              "top          20.0  \n",
              "freq          9.0  "
            ]
          },
          "metadata": {
            "tags": []
          },
          "execution_count": 148
        }
      ]
    },
    {
      "cell_type": "code",
      "metadata": {
        "id": "eJvrnoyVxLf4",
        "colab_type": "code",
        "colab": {
          "base_uri": "https://localhost:8080/",
          "height": 34
        },
        "outputId": "70eed232-ddcf-453f-dde9-55f7eea2064f"
      },
      "source": [
        "data['net_worth'].mean()"
      ],
      "execution_count": 149,
      "outputs": [
        {
          "output_type": "execute_result",
          "data": {
            "text/plain": [
              "42.358888888888885"
            ]
          },
          "metadata": {
            "tags": []
          },
          "execution_count": 149
        }
      ]
    },
    {
      "cell_type": "code",
      "metadata": {
        "id": "1_eibsGt0O_4",
        "colab_type": "code",
        "colab": {
          "base_uri": "https://localhost:8080/",
          "height": 51
        },
        "outputId": "eaafe765-506a-4432-9b1d-ce671b7b7579"
      },
      "source": [
        "data['nationality'].mode()"
      ],
      "execution_count": 150,
      "outputs": [
        {
          "output_type": "execute_result",
          "data": {
            "text/plain": [
              "0    United States\n",
              "dtype: object"
            ]
          },
          "metadata": {
            "tags": []
          },
          "execution_count": 150
        }
      ]
    },
    {
      "cell_type": "code",
      "metadata": {
        "id": "hiOIFgSA6C-9",
        "colab_type": "code",
        "colab": {
          "base_uri": "https://localhost:8080/",
          "height": 402
        },
        "outputId": "e15cc9ae-9d57-43ff-dcab-39300ec1b77d"
      },
      "source": [
        "plt.figure(figsize=[16,6])\n",
        "y=data.groupby('year').mean()['age']\n",
        "xi = list(range(2002,2020))\n",
        "plt.plot(xi,y, marker ='o', linestyle='--', color='r', label='Square')\n",
        "plt.xticks(xi,xi)\n",
        "plt.xlabel('Year')\n",
        "plt.ylabel('Mean Age for that year')"
      ],
      "execution_count": 151,
      "outputs": [
        {
          "output_type": "execute_result",
          "data": {
            "text/plain": [
              "Text(0, 0.5, 'Mean Age for that year')"
            ]
          },
          "metadata": {
            "tags": []
          },
          "execution_count": 151
        },
        {
          "output_type": "display_data",
          "data": {
            "image/png": "[encoded data removed]",
            "text/plain": [
              "<Figure size 1152x432 with 1 Axes>"
            ]
          },
          "metadata": {
            "tags": [],
            "needs_background": "light"
          }
        }
      ]
    },
    {
      "cell_type": "code",
      "metadata": {
        "id": "bnKmX_OHFNXl",
        "colab_type": "code",
        "colab": {}
      },
      "source": [
        ""
      ],
      "execution_count": 0,
      "outputs": []
    },
    {
      "cell_type": "code",
      "metadata": {
        "colab_type": "code",
        "outputId": "0cbfc50f-f2cf-49c0-d6d8-e5c029b79535",
        "id": "qUXg6iNMFN2g",
        "colab": {
          "base_uri": "https://localhost:8080/",
          "height": 405
        }
      },
      "source": [
        "plt.figure(figsize=[16,6])\n",
        "y=data.groupby('year').mean()['net_worth']\n",
        "xi = list(range(2002,2020))\n",
        "plt.plot(xi,y, marker ='o', linestyle='--', color='r', label='Square')\n",
        "plt.xticks(xi,xi)\n",
        "\n",
        "plt.ylabel('Mean Age for that year')\n",
        "plt.xlabel('Year')"
      ],
      "execution_count": 152,
      "outputs": [
        {
          "output_type": "execute_result",
          "data": {
            "text/plain": [
              "Text(0.5, 0, 'Year')"
            ]
          },
          "metadata": {
            "tags": []
          },
          "execution_count": 152
        },
        {
          "output_type": "display_data",
          "data": {
            "image/png": "[encoded data removed]",
            "text/plain": [
              "<Figure size 1152x432 with 1 Axes>"
            ]
          },
          "metadata": {
            "tags": [],
            "needs_background": "light"
          }
        }
      ]
    },
    {
      "cell_type": "code",
      "metadata": {
        "id": "9czhn2TJM7Rq",
        "colab_type": "code",
        "colab": {
          "base_uri": "https://localhost:8080/",
          "height": 224
        },
        "outputId": "a47ae6e1-ce07-436a-f3c4-bd1a1c4919d6"
      },
      "source": [
        "!pip install seaborn \n",
        "import seaborn as sns "
      ],
      "execution_count": 153,
      "outputs": [
        {
          "output_type": "stream",
          "text": [
            "Requirement already satisfied: seaborn in /usr/local/lib/python3.6/dist-packages (0.10.1)\n",
            "Requirement already satisfied: numpy>=1.13.3 in /usr/local/lib/python3.6/dist-packages (from seaborn) (1.18.4)\n",
            "Requirement already satisfied: pandas>=0.22.0 in /usr/local/lib/python3.6/dist-packages (from seaborn) (1.0.3)\n",
            "Requirement already satisfied: matplotlib>=2.1.2 in /usr/local/lib/python3.6/dist-packages (from seaborn) (3.2.1)\n",
            "Requirement already satisfied: scipy>=1.0.1 in /usr/local/lib/python3.6/dist-packages (from seaborn) (1.4.1)\n",
            "Requirement already satisfied: python-dateutil>=2.6.1 in /usr/local/lib/python3.6/dist-packages (from pandas>=0.22.0->seaborn) (2.8.1)\n",
            "Requirement already satisfied: pytz>=2017.2 in /usr/local/lib/python3.6/dist-packages (from pandas>=0.22.0->seaborn) (2018.9)\n",
            "Requirement already satisfied: kiwisolver>=1.0.1 in /usr/local/lib/python3.6/dist-packages (from matplotlib>=2.1.2->seaborn) (1.2.0)\n",
            "Requirement already satisfied: pyparsing!=2.0.4,!=2.1.2,!=2.1.6,>=2.0.1 in /usr/local/lib/python3.6/dist-packages (from matplotlib>=2.1.2->seaborn) (2.4.7)\n",
            "Requirement already satisfied: cycler>=0.10 in /usr/local/lib/python3.6/dist-packages (from matplotlib>=2.1.2->seaborn) (0.10.0)\n",
            "Requirement already satisfied: six>=1.5 in /usr/local/lib/python3.6/dist-packages (from python-dateutil>=2.6.1->pandas>=0.22.0->seaborn) (1.12.0)\n"
          ],
          "name": "stdout"
        }
      ]
    },
    {
      "cell_type": "code",
      "metadata": {
        "id": "8LvfGOYOMPt9",
        "colab_type": "code",
        "colab": {
          "base_uri": "https://localhost:8080/",
          "height": 1000
        },
        "outputId": "de1b9f1f-5652-4b65-979b-73261ebd1d42"
      },
      "source": [
        "filter= ['Bill Gates','Jeff Bezos','Mark Zuckerberg','Paul Allen','Larry Ellison']\n",
        "data[data['name'].isin(filter)][['name','year','net_worth']]"
      ],
      "execution_count": 154,
      "outputs": [
        {
          "output_type": "execute_result",
          "data": {
            "text/html": [
              "<div>\n",
              "<style scoped>\n",
              "    .dataframe tbody tr th:only-of-type {\n",
              "        vertical-align: middle;\n",
              "    }\n",
              "\n",
              "    .dataframe tbody tr th {\n",
              "        vertical-align: top;\n",
              "    }\n",
              "\n",
              "    .dataframe thead th {\n",
              "        text-align: right;\n",
              "    }\n",
              "</style>\n",
              "<table border=\"1\" class=\"dataframe\">\n",
              "  <thead>\n",
              "    <tr style=\"text-align: right;\">\n",
              "      <th></th>\n",
              "      <th>name</th>\n",
              "      <th>year</th>\n",
              "      <th>net_worth</th>\n",
              "    </tr>\n",
              "  </thead>\n",
              "  <tbody>\n",
              "    <tr>\n",
              "      <th>0</th>\n",
              "      <td>Jeff Bezos</td>\n",
              "      <td>2019</td>\n",
              "      <td>131.0</td>\n",
              "    </tr>\n",
              "    <tr>\n",
              "      <th>1</th>\n",
              "      <td>Bill Gates</td>\n",
              "      <td>2019</td>\n",
              "      <td>96.5</td>\n",
              "    </tr>\n",
              "    <tr>\n",
              "      <th>6</th>\n",
              "      <td>Larry Ellison</td>\n",
              "      <td>2019</td>\n",
              "      <td>62.5</td>\n",
              "    </tr>\n",
              "    <tr>\n",
              "      <th>7</th>\n",
              "      <td>Mark Zuckerberg</td>\n",
              "      <td>2019</td>\n",
              "      <td>62.3</td>\n",
              "    </tr>\n",
              "    <tr>\n",
              "      <th>10</th>\n",
              "      <td>Jeff Bezos</td>\n",
              "      <td>2018</td>\n",
              "      <td>112.0</td>\n",
              "    </tr>\n",
              "    <tr>\n",
              "      <th>11</th>\n",
              "      <td>Bill Gates</td>\n",
              "      <td>2018</td>\n",
              "      <td>90.0</td>\n",
              "    </tr>\n",
              "    <tr>\n",
              "      <th>14</th>\n",
              "      <td>Mark Zuckerberg</td>\n",
              "      <td>2018</td>\n",
              "      <td>71.0</td>\n",
              "    </tr>\n",
              "    <tr>\n",
              "      <th>19</th>\n",
              "      <td>Larry Ellison</td>\n",
              "      <td>2018</td>\n",
              "      <td>58.5</td>\n",
              "    </tr>\n",
              "    <tr>\n",
              "      <th>20</th>\n",
              "      <td>Bill Gates</td>\n",
              "      <td>2017</td>\n",
              "      <td>86.0</td>\n",
              "    </tr>\n",
              "    <tr>\n",
              "      <th>22</th>\n",
              "      <td>Jeff Bezos</td>\n",
              "      <td>2017</td>\n",
              "      <td>72.8</td>\n",
              "    </tr>\n",
              "    <tr>\n",
              "      <th>24</th>\n",
              "      <td>Mark Zuckerberg</td>\n",
              "      <td>2017</td>\n",
              "      <td>56.0</td>\n",
              "    </tr>\n",
              "    <tr>\n",
              "      <th>26</th>\n",
              "      <td>Larry Ellison</td>\n",
              "      <td>2017</td>\n",
              "      <td>52.2</td>\n",
              "    </tr>\n",
              "    <tr>\n",
              "      <th>30</th>\n",
              "      <td>Bill Gates</td>\n",
              "      <td>2016</td>\n",
              "      <td>75.0</td>\n",
              "    </tr>\n",
              "    <tr>\n",
              "      <th>34</th>\n",
              "      <td>Jeff Bezos</td>\n",
              "      <td>2016</td>\n",
              "      <td>45.2</td>\n",
              "    </tr>\n",
              "    <tr>\n",
              "      <th>35</th>\n",
              "      <td>Mark Zuckerberg</td>\n",
              "      <td>2016</td>\n",
              "      <td>44.6</td>\n",
              "    </tr>\n",
              "    <tr>\n",
              "      <th>36</th>\n",
              "      <td>Larry Ellison</td>\n",
              "      <td>2016</td>\n",
              "      <td>43.6</td>\n",
              "    </tr>\n",
              "    <tr>\n",
              "      <th>40</th>\n",
              "      <td>Bill Gates</td>\n",
              "      <td>2015</td>\n",
              "      <td>79.2</td>\n",
              "    </tr>\n",
              "    <tr>\n",
              "      <th>44</th>\n",
              "      <td>Larry Ellison</td>\n",
              "      <td>2015</td>\n",
              "      <td>54.3</td>\n",
              "    </tr>\n",
              "    <tr>\n",
              "      <th>50</th>\n",
              "      <td>Bill Gates</td>\n",
              "      <td>2014</td>\n",
              "      <td>76.0</td>\n",
              "    </tr>\n",
              "    <tr>\n",
              "      <th>54</th>\n",
              "      <td>Larry Ellison</td>\n",
              "      <td>2014</td>\n",
              "      <td>48.0</td>\n",
              "    </tr>\n",
              "    <tr>\n",
              "      <th>61</th>\n",
              "      <td>Bill Gates</td>\n",
              "      <td>2013</td>\n",
              "      <td>67.0</td>\n",
              "    </tr>\n",
              "    <tr>\n",
              "      <th>64</th>\n",
              "      <td>Larry Ellison</td>\n",
              "      <td>2013</td>\n",
              "      <td>43.0</td>\n",
              "    </tr>\n",
              "    <tr>\n",
              "      <th>71</th>\n",
              "      <td>Bill Gates</td>\n",
              "      <td>2012</td>\n",
              "      <td>61.0</td>\n",
              "    </tr>\n",
              "    <tr>\n",
              "      <th>75</th>\n",
              "      <td>Larry Ellison</td>\n",
              "      <td>2012</td>\n",
              "      <td>36.0</td>\n",
              "    </tr>\n",
              "    <tr>\n",
              "      <th>81</th>\n",
              "      <td>Bill Gates</td>\n",
              "      <td>2011</td>\n",
              "      <td>56.0</td>\n",
              "    </tr>\n",
              "    <tr>\n",
              "      <th>84</th>\n",
              "      <td>Larry Ellison</td>\n",
              "      <td>2011</td>\n",
              "      <td>39.5</td>\n",
              "    </tr>\n",
              "    <tr>\n",
              "      <th>91</th>\n",
              "      <td>Bill Gates</td>\n",
              "      <td>2010</td>\n",
              "      <td>53.0</td>\n",
              "    </tr>\n",
              "    <tr>\n",
              "      <th>95</th>\n",
              "      <td>Larry Ellison</td>\n",
              "      <td>2010</td>\n",
              "      <td>28.0</td>\n",
              "    </tr>\n",
              "    <tr>\n",
              "      <th>100</th>\n",
              "      <td>Bill Gates</td>\n",
              "      <td>2009</td>\n",
              "      <td>40.0</td>\n",
              "    </tr>\n",
              "    <tr>\n",
              "      <th>103</th>\n",
              "      <td>Larry Ellison</td>\n",
              "      <td>2009</td>\n",
              "      <td>22.5</td>\n",
              "    </tr>\n",
              "    <tr>\n",
              "      <th>112</th>\n",
              "      <td>Bill Gates</td>\n",
              "      <td>2008</td>\n",
              "      <td>58.0</td>\n",
              "    </tr>\n",
              "    <tr>\n",
              "      <th>120</th>\n",
              "      <td>Bill Gates</td>\n",
              "      <td>2007</td>\n",
              "      <td>56.0</td>\n",
              "    </tr>\n",
              "    <tr>\n",
              "      <th>130</th>\n",
              "      <td>Bill Gates</td>\n",
              "      <td>2006</td>\n",
              "      <td>52.0</td>\n",
              "    </tr>\n",
              "    <tr>\n",
              "      <th>135</th>\n",
              "      <td>Paul Allen</td>\n",
              "      <td>2006</td>\n",
              "      <td>22.0</td>\n",
              "    </tr>\n",
              "    <tr>\n",
              "      <th>140</th>\n",
              "      <td>Bill Gates</td>\n",
              "      <td>2005</td>\n",
              "      <td>46.5</td>\n",
              "    </tr>\n",
              "    <tr>\n",
              "      <th>146</th>\n",
              "      <td>Paul Allen</td>\n",
              "      <td>2005</td>\n",
              "      <td>21.0</td>\n",
              "    </tr>\n",
              "    <tr>\n",
              "      <th>148</th>\n",
              "      <td>Larry Ellison</td>\n",
              "      <td>2005</td>\n",
              "      <td>18.4</td>\n",
              "    </tr>\n",
              "    <tr>\n",
              "      <th>150</th>\n",
              "      <td>Bill Gates</td>\n",
              "      <td>2004</td>\n",
              "      <td>46.6</td>\n",
              "    </tr>\n",
              "    <tr>\n",
              "      <th>154</th>\n",
              "      <td>Paul Allen</td>\n",
              "      <td>2004</td>\n",
              "      <td>21.0</td>\n",
              "    </tr>\n",
              "    <tr>\n",
              "      <th>160</th>\n",
              "      <td>Bill Gates</td>\n",
              "      <td>2003</td>\n",
              "      <td>52.8</td>\n",
              "    </tr>\n",
              "    <tr>\n",
              "      <th>163</th>\n",
              "      <td>Paul Allen</td>\n",
              "      <td>2003</td>\n",
              "      <td>25.2</td>\n",
              "    </tr>\n",
              "    <tr>\n",
              "      <th>164</th>\n",
              "      <td>Larry Ellison</td>\n",
              "      <td>2003</td>\n",
              "      <td>23.5</td>\n",
              "    </tr>\n",
              "    <tr>\n",
              "      <th>170</th>\n",
              "      <td>Bill Gates</td>\n",
              "      <td>2002</td>\n",
              "      <td>60.0</td>\n",
              "    </tr>\n",
              "    <tr>\n",
              "      <th>171</th>\n",
              "      <td>Larry Ellison</td>\n",
              "      <td>2002</td>\n",
              "      <td>47.0</td>\n",
              "    </tr>\n",
              "    <tr>\n",
              "      <th>172</th>\n",
              "      <td>Paul Allen</td>\n",
              "      <td>2002</td>\n",
              "      <td>28.0</td>\n",
              "    </tr>\n",
              "  </tbody>\n",
              "</table>\n",
              "</div>"
            ],
            "text/plain": [
              "                name  year  net_worth\n",
              "0         Jeff Bezos  2019      131.0\n",
              "1         Bill Gates  2019       96.5\n",
              "6      Larry Ellison  2019       62.5\n",
              "7    Mark Zuckerberg  2019       62.3\n",
              "10        Jeff Bezos  2018      112.0\n",
              "11        Bill Gates  2018       90.0\n",
              "14   Mark Zuckerberg  2018       71.0\n",
              "19     Larry Ellison  2018       58.5\n",
              "20        Bill Gates  2017       86.0\n",
              "22        Jeff Bezos  2017       72.8\n",
              "24   Mark Zuckerberg  2017       56.0\n",
              "26     Larry Ellison  2017       52.2\n",
              "30        Bill Gates  2016       75.0\n",
              "34        Jeff Bezos  2016       45.2\n",
              "35   Mark Zuckerberg  2016       44.6\n",
              "36     Larry Ellison  2016       43.6\n",
              "40        Bill Gates  2015       79.2\n",
              "44     Larry Ellison  2015       54.3\n",
              "50        Bill Gates  2014       76.0\n",
              "54     Larry Ellison  2014       48.0\n",
              "61        Bill Gates  2013       67.0\n",
              "64     Larry Ellison  2013       43.0\n",
              "71        Bill Gates  2012       61.0\n",
              "75     Larry Ellison  2012       36.0\n",
              "81        Bill Gates  2011       56.0\n",
              "84     Larry Ellison  2011       39.5\n",
              "91        Bill Gates  2010       53.0\n",
              "95     Larry Ellison  2010       28.0\n",
              "100       Bill Gates  2009       40.0\n",
              "103    Larry Ellison  2009       22.5\n",
              "112       Bill Gates  2008       58.0\n",
              "120       Bill Gates  2007       56.0\n",
              "130       Bill Gates  2006       52.0\n",
              "135       Paul Allen  2006       22.0\n",
              "140       Bill Gates  2005       46.5\n",
              "146       Paul Allen  2005       21.0\n",
              "148    Larry Ellison  2005       18.4\n",
              "150       Bill Gates  2004       46.6\n",
              "154       Paul Allen  2004       21.0\n",
              "160       Bill Gates  2003       52.8\n",
              "163       Paul Allen  2003       25.2\n",
              "164    Larry Ellison  2003       23.5\n",
              "170       Bill Gates  2002       60.0\n",
              "171    Larry Ellison  2002       47.0\n",
              "172       Paul Allen  2002       28.0"
            ]
          },
          "metadata": {
            "tags": []
          },
          "execution_count": 154
        }
      ]
    },
    {
      "cell_type": "code",
      "metadata": {
        "id": "Idi9hVmgMPlN",
        "colab_type": "code",
        "colab": {
          "base_uri": "https://localhost:8080/",
          "height": 419
        },
        "outputId": "8956fbbd-9c1e-41c1-86a7-4547a8ed3267"
      },
      "source": [
        "plt.figure(figsize=(16,6))\n",
        "filter = ['Bill Gates','Jeff Bezos','Mark Zuckerberg','Paul Allen','Larry Ellison', \"Mukesh Ambani\"]\n",
        "comparison = data[data['name'].isin(filter)][['name','year','net_worth']]\n",
        "sns.lineplot(data=comparison,x='year',y='net_worth',hue='name')\n",
        "plt.xticks(xi,xi)\n",
        "plt.xlabel('Year')\n",
        "plt.ylabel('Net Worth')\n",
        "plt.title('Wealth of Major Tech Companies Owners over years')\n"
      ],
      "execution_count": 155,
      "outputs": [
        {
          "output_type": "execute_result",
          "data": {
            "text/plain": [
              "Text(0.5, 1.0, 'Wealth of Major Tech Companies Owners over years')"
            ]
          },
          "metadata": {
            "tags": []
          },
          "execution_count": 155
        },
        {
          "output_type": "display_data",
          "data": {
            "image/png": "[encoded data removed]",
            "text/plain": [
              "<Figure size 1152x432 with 1 Axes>"
            ]
          },
          "metadata": {
            "tags": [],
            "needs_background": "light"
          }
        }
      ]
    },
    {
      "cell_type": "code",
      "metadata": {
        "id": "7sxxkAbxHa4s",
        "colab_type": "code",
        "colab": {
          "base_uri": "https://localhost:8080/",
          "height": 224
        },
        "outputId": "f446eec9-5118-4a42-976a-263cfd0194e6"
      },
      "source": [
        "!pip install seaborn \n",
        "import seaborn as sns "
      ],
      "execution_count": 156,
      "outputs": [
        {
          "output_type": "stream",
          "text": [
            "Requirement already satisfied: seaborn in /usr/local/lib/python3.6/dist-packages (0.10.1)\n",
            "Requirement already satisfied: scipy>=1.0.1 in /usr/local/lib/python3.6/dist-packages (from seaborn) (1.4.1)\n",
            "Requirement already satisfied: pandas>=0.22.0 in /usr/local/lib/python3.6/dist-packages (from seaborn) (1.0.3)\n",
            "Requirement already satisfied: numpy>=1.13.3 in /usr/local/lib/python3.6/dist-packages (from seaborn) (1.18.4)\n",
            "Requirement already satisfied: matplotlib>=2.1.2 in /usr/local/lib/python3.6/dist-packages (from seaborn) (3.2.1)\n",
            "Requirement already satisfied: python-dateutil>=2.6.1 in /usr/local/lib/python3.6/dist-packages (from pandas>=0.22.0->seaborn) (2.8.1)\n",
            "Requirement already satisfied: pytz>=2017.2 in /usr/local/lib/python3.6/dist-packages (from pandas>=0.22.0->seaborn) (2018.9)\n",
            "Requirement already satisfied: cycler>=0.10 in /usr/local/lib/python3.6/dist-packages (from matplotlib>=2.1.2->seaborn) (0.10.0)\n",
            "Requirement already satisfied: kiwisolver>=1.0.1 in /usr/local/lib/python3.6/dist-packages (from matplotlib>=2.1.2->seaborn) (1.2.0)\n",
            "Requirement already satisfied: pyparsing!=2.0.4,!=2.1.2,!=2.1.6,>=2.0.1 in /usr/local/lib/python3.6/dist-packages (from matplotlib>=2.1.2->seaborn) (2.4.7)\n",
            "Requirement already satisfied: six>=1.5 in /usr/local/lib/python3.6/dist-packages (from python-dateutil>=2.6.1->pandas>=0.22.0->seaborn) (1.12.0)\n"
          ],
          "name": "stdout"
        }
      ]
    },
    {
      "cell_type": "code",
      "metadata": {
        "id": "tlZsUkoy92cB",
        "colab_type": "code",
        "colab": {
          "base_uri": "https://localhost:8080/",
          "height": 350
        },
        "outputId": "07bc2cd8-4b02-4310-be7d-57c726fca86e"
      },
      "source": [
        "plt.figure(figsize=(10,5))\n",
        "filter = ['Microsoft','Facebook','Bershire Hathway','Wal-Mart','Amazon','LVMH']\n",
        "comparision = data[data['source_wealth'].isin(filter)][['source_wealth','year','net_worth']]\n",
        "sns.lineplot(data=comparision,x='year',y='net_worth',hue='source_wealth')\n",
        "plt.xticks(xi,xi)\n",
        "plt.xlabel('Year')\n",
        "plt.ylabel('Net Worth')\n",
        "plt.title('Wealth of Major Tech Companies Owner over Years')\n",
        "plt.show()"
      ],
      "execution_count": 157,
      "outputs": [
        {
          "output_type": "display_data",
          "data": {
            "image/png": "[encoded data removed]",
            "text/plain": [
              "<Figure size 720x360 with 1 Axes>"
            ]
          },
          "metadata": {
            "tags": [],
            "needs_background": "light"
          }
        }
      ]
    },
    {
      "cell_type": "markdown",
      "metadata": {
        "id": "VDOGJ0h1JEGa",
        "colab_type": "text"
      },
      "source": [
        "**Summary of data**"
      ]
    },
    {
      "cell_type": "code",
      "metadata": {
        "id": "NW9Og8YgJAm2",
        "colab_type": "code",
        "colab": {
          "base_uri": "https://localhost:8080/",
          "height": 297
        },
        "outputId": "bf726277-43e0-4a60-84a8-d510c42385b3"
      },
      "source": [
        "data.describe()"
      ],
      "execution_count": 158,
      "outputs": [
        {
          "output_type": "execute_result",
          "data": {
            "text/html": [
              "<div>\n",
              "<style scoped>\n",
              "    .dataframe tbody tr th:only-of-type {\n",
              "        vertical-align: middle;\n",
              "    }\n",
              "\n",
              "    .dataframe tbody tr th {\n",
              "        vertical-align: top;\n",
              "    }\n",
              "\n",
              "    .dataframe thead th {\n",
              "        text-align: right;\n",
              "    }\n",
              "</style>\n",
              "<table border=\"1\" class=\"dataframe\">\n",
              "  <thead>\n",
              "    <tr style=\"text-align: right;\">\n",
              "      <th></th>\n",
              "      <th>net_worth</th>\n",
              "      <th>age</th>\n",
              "    </tr>\n",
              "  </thead>\n",
              "  <tbody>\n",
              "    <tr>\n",
              "      <th>count</th>\n",
              "      <td>180.000000</td>\n",
              "      <td>180.000000</td>\n",
              "    </tr>\n",
              "    <tr>\n",
              "      <th>mean</th>\n",
              "      <td>42.358889</td>\n",
              "      <td>66.666667</td>\n",
              "    </tr>\n",
              "    <tr>\n",
              "      <th>std</th>\n",
              "      <td>20.716910</td>\n",
              "      <td>13.689698</td>\n",
              "    </tr>\n",
              "    <tr>\n",
              "      <th>min</th>\n",
              "      <td>16.100000</td>\n",
              "      <td>31.000000</td>\n",
              "    </tr>\n",
              "    <tr>\n",
              "      <th>25%</th>\n",
              "      <td>25.000000</td>\n",
              "      <td>55.000000</td>\n",
              "    </tr>\n",
              "    <tr>\n",
              "      <th>50%</th>\n",
              "      <td>39.800000</td>\n",
              "      <td>69.000000</td>\n",
              "    </tr>\n",
              "    <tr>\n",
              "      <th>75%</th>\n",
              "      <td>56.000000</td>\n",
              "      <td>78.000000</td>\n",
              "    </tr>\n",
              "    <tr>\n",
              "      <th>max</th>\n",
              "      <td>131.000000</td>\n",
              "      <td>92.000000</td>\n",
              "    </tr>\n",
              "  </tbody>\n",
              "</table>\n",
              "</div>"
            ],
            "text/plain": [
              "        net_worth         age\n",
              "count  180.000000  180.000000\n",
              "mean    42.358889   66.666667\n",
              "std     20.716910   13.689698\n",
              "min     16.100000   31.000000\n",
              "25%     25.000000   55.000000\n",
              "50%     39.800000   69.000000\n",
              "75%     56.000000   78.000000\n",
              "max    131.000000   92.000000"
            ]
          },
          "metadata": {
            "tags": []
          },
          "execution_count": 158
        }
      ]
    },
    {
      "cell_type": "markdown",
      "metadata": {
        "id": "CY6-z-ueLLDa",
        "colab_type": "text"
      },
      "source": [
        "For networth 50% that is Q2 is 39.8 which is the median, which means 50% of the value is below that and 50% above that. Q1 is 25% i.e. 1st quartile has 25% of the value below it and 75% above it. 75% i.e. Q3 is the 3rd quartile that means 75% of data is below this and 25% above this value."
      ]
    },
    {
      "cell_type": "markdown",
      "metadata": {
        "id": "wpkv7bClO7CT",
        "colab_type": "text"
      },
      "source": [
        "**Measures of Speed**\n",
        "This is also knows as variability. There are 4 commonly used Measures of Spread\n",
        "Range, Variance, Standard Deviation, Interqaurtile Range\n"
      ]
    },
    {
      "cell_type": "markdown",
      "metadata": {
        "id": "YouaFtxOP9ZA",
        "colab_type": "text"
      },
      "source": [
        "**Range** : Difference between smallest and largest number"
      ]
    },
    {
      "cell_type": "code",
      "metadata": {
        "id": "hWD_daoZLJju",
        "colab_type": "code",
        "colab": {
          "base_uri": "https://localhost:8080/",
          "height": 357
        },
        "outputId": "890b869c-8f4d-4ee2-bac1-b207902d0bd1"
      },
      "source": [
        "data_by_year['net_worth'].max()"
      ],
      "execution_count": 159,
      "outputs": [
        {
          "output_type": "execute_result",
          "data": {
            "text/plain": [
              "year\n",
              "2002     60.0\n",
              "2003     52.8\n",
              "2004     46.6\n",
              "2005     46.5\n",
              "2006     52.0\n",
              "2007     56.0\n",
              "2008     62.0\n",
              "2009     40.0\n",
              "2010     53.5\n",
              "2011     74.0\n",
              "2012     69.0\n",
              "2013     73.0\n",
              "2014     76.0\n",
              "2015     79.2\n",
              "2016     75.0\n",
              "2017     86.0\n",
              "2018    112.0\n",
              "2019    131.0\n",
              "Name: net_worth, dtype: float64"
            ]
          },
          "metadata": {
            "tags": []
          },
          "execution_count": 159
        }
      ]
    },
    {
      "cell_type": "code",
      "metadata": {
        "id": "d_PgTnlaTljq",
        "colab_type": "code",
        "colab": {
          "base_uri": "https://localhost:8080/",
          "height": 357
        },
        "outputId": "297a11be-833b-4759-a526-89287e05f4f1"
      },
      "source": [
        "data_by_year['net_worth'].max() - data_by_year['net_worth'].min()"
      ],
      "execution_count": 160,
      "outputs": [
        {
          "output_type": "execute_result",
          "data": {
            "text/plain": [
              "year\n",
              "2002    43.9\n",
              "2003    32.3\n",
              "2004    26.6\n",
              "2005    28.2\n",
              "2006    33.2\n",
              "2007    34.0\n",
              "2008    35.0\n",
              "2009    21.7\n",
              "2010    30.0\n",
              "2011    47.5\n",
              "2012    43.6\n",
              "2013    44.0\n",
              "2014    41.3\n",
              "2015    39.1\n",
              "2016    35.4\n",
              "2017    38.5\n",
              "2018    53.5\n",
              "2019    80.2\n",
              "Name: net_worth, dtype: float64"
            ]
          },
          "metadata": {
            "tags": []
          },
          "execution_count": 160
        }
      ]
    },
    {
      "cell_type": "markdown",
      "metadata": {
        "id": "2QDNtAy-UCSC",
        "colab_type": "text"
      },
      "source": [
        "**Variance** : Variance (σ2) in statistics is a measurement of the spread between numbers in a data set. That is, it measures how far each number in the set is from the mean and therefore from every other number in the set. "
      ]
    },
    {
      "cell_type": "code",
      "metadata": {
        "id": "N7TJPzM6UB_B",
        "colab_type": "code",
        "colab": {
          "base_uri": "https://localhost:8080/",
          "height": 357
        },
        "outputId": "36fe364f-07e1-4fad-88bb-64d1ec5ace35"
      },
      "source": [
        "data_by_year['net_worth'].var()"
      ],
      "execution_count": 161,
      "outputs": [
        {
          "output_type": "execute_result",
          "data": {
            "text/plain": [
              "year\n",
              "2002    208.359556\n",
              "2003    105.409000\n",
              "2004    104.635556\n",
              "2005    106.910667\n",
              "2006    121.447111\n",
              "2007    169.113889\n",
              "2008    185.822222\n",
              "2009     71.227667\n",
              "2010    142.372889\n",
              "2011    235.665444\n",
              "2012    226.504889\n",
              "2013    267.447222\n",
              "2014    241.827111\n",
              "2015    263.728889\n",
              "2016    159.689333\n",
              "2017    192.487222\n",
              "2018    278.527111\n",
              "2019    578.597333\n",
              "Name: net_worth, dtype: float64"
            ]
          },
          "metadata": {
            "tags": []
          },
          "execution_count": 161
        }
      ]
    },
    {
      "cell_type": "markdown",
      "metadata": {
        "id": "HDlRZ_9RU_80",
        "colab_type": "text"
      },
      "source": [
        "**STANDARD DEVIATION** : Square root of Variance.\n",
        "The standard deviation is a statistic that measures the dispersion of a dataset relative to its mean and is calculated as the square root of the variance. It is calculated as the square root of variance by determining the variation between each data point relative to the mean. If the data points are further from the mean, there is a higher deviation within the data set; thus, the more spread out the data, the higher the standard deviation."
      ]
    },
    {
      "cell_type": "code",
      "metadata": {
        "id": "V0fCHnmBV0p-",
        "colab_type": "code",
        "colab": {
          "base_uri": "https://localhost:8080/",
          "height": 357
        },
        "outputId": "9f96f5db-0f10-4ee0-86a5-6c9ad37bb8c7"
      },
      "source": [
        "data_by_year['net_worth'].std()"
      ],
      "execution_count": 162,
      "outputs": [
        {
          "output_type": "execute_result",
          "data": {
            "text/plain": [
              "year\n",
              "2002    14.434665\n",
              "2003    10.266889\n",
              "2004    10.229152\n",
              "2005    10.339761\n",
              "2006    11.020304\n",
              "2007    13.004380\n",
              "2008    13.631662\n",
              "2009     8.439648\n",
              "2010    11.932011\n",
              "2011    15.351399\n",
              "2012    15.050079\n",
              "2013    16.353814\n",
              "2014    15.550791\n",
              "2015    16.239732\n",
              "2016    12.636824\n",
              "2017    13.873976\n",
              "2018    16.689132\n",
              "2019    24.054050\n",
              "Name: net_worth, dtype: float64"
            ]
          },
          "metadata": {
            "tags": []
          },
          "execution_count": 162
        }
      ]
    },
    {
      "cell_type": "markdown",
      "metadata": {
        "id": "VxKpTR9zVswK",
        "colab_type": "text"
      },
      "source": [
        "**INTERQUARTILE RANGE**: The measure of statistical dispersion between upper (75th) and lower (25th) quartiles."
      ]
    },
    {
      "cell_type": "code",
      "metadata": {
        "id": "0LqLklymWe2J",
        "colab_type": "code",
        "colab": {
          "base_uri": "https://localhost:8080/",
          "height": 357
        },
        "outputId": "cd553f63-8d6c-45a1-c0cd-d031cdb4f1c7"
      },
      "source": [
        "Q1 = data_by_year['net_worth'].quantile(0.25)\n",
        "Q3 = data_by_year['net_worth'].quantile(0.75)\n",
        "IQR = Q3 - Q1\n",
        "print(IQR)"
      ],
      "execution_count": 163,
      "outputs": [
        {
          "output_type": "stream",
          "text": [
            "year\n",
            "2002     7.850\n",
            "2003     5.850\n",
            "2004     2.625\n",
            "2005     5.575\n",
            "2006     9.125\n",
            "2007    20.500\n",
            "2008    24.500\n",
            "2009    12.525\n",
            "2010    15.375\n",
            "2011    17.500\n",
            "2012    16.250\n",
            "2013    24.375\n",
            "2014    24.050\n",
            "2015    28.650\n",
            "2016    17.200\n",
            "2017    23.150\n",
            "2018    19.225\n",
            "2019    18.525\n",
            "Name: net_worth, dtype: float64\n"
          ],
          "name": "stdout"
        }
      ]
    },
    {
      "cell_type": "markdown",
      "metadata": {
        "id": "JpKsFnAVZ6Kl",
        "colab_type": "text"
      },
      "source": [
        "## Finding outliers in a column using Standard Deviation\n",
        "Standard deviation is helpful because it describes how far away from the mean your data generally is. We can use this to find data points that are usually far from the mean. These are called as **outliers**."
      ]
    },
    {
      "cell_type": "markdown",
      "metadata": {
        "id": "13mhhpWDaKIT",
        "colab_type": "text"
      },
      "source": [
        "Let's try to find out the outliers for the age column. Meaning thereby we are finding people who are too old or too young as compared to the entire dataset of billionaires. "
      ]
    },
    {
      "cell_type": "code",
      "metadata": {
        "id": "VI3j5pu5aBhy",
        "colab_type": "code",
        "colab": {
          "base_uri": "https://localhost:8080/",
          "height": 393
        },
        "outputId": "15abcce9-677b-42f9-f6c1-d5d6c70aa770"
      },
      "source": [
        "data['age_std'] = ((data['age'] - data['age'].mean())/ data['age'].std())\n",
        "data.sort_values(by='age_std').head(10)"
      ],
      "execution_count": 164,
      "outputs": [
        {
          "output_type": "execute_result",
          "data": {
            "text/html": [
              "<div>\n",
              "<style scoped>\n",
              "    .dataframe tbody tr th:only-of-type {\n",
              "        vertical-align: middle;\n",
              "    }\n",
              "\n",
              "    .dataframe tbody tr th {\n",
              "        vertical-align: top;\n",
              "    }\n",
              "\n",
              "    .dataframe thead th {\n",
              "        text-align: right;\n",
              "    }\n",
              "</style>\n",
              "<table border=\"1\" class=\"dataframe\">\n",
              "  <thead>\n",
              "    <tr style=\"text-align: right;\">\n",
              "      <th></th>\n",
              "      <th>year</th>\n",
              "      <th>rank</th>\n",
              "      <th>name</th>\n",
              "      <th>net_worth</th>\n",
              "      <th>age</th>\n",
              "      <th>nationality</th>\n",
              "      <th>source_wealth</th>\n",
              "      <th>year_new</th>\n",
              "      <th>new_worth</th>\n",
              "      <th>age_std</th>\n",
              "    </tr>\n",
              "  </thead>\n",
              "  <tbody>\n",
              "    <tr>\n",
              "      <th>35</th>\n",
              "      <td>2016</td>\n",
              "      <td>6</td>\n",
              "      <td>Mark Zuckerberg</td>\n",
              "      <td>44.6</td>\n",
              "      <td>31</td>\n",
              "      <td>United States</td>\n",
              "      <td>Facebook</td>\n",
              "      <td>2016</td>\n",
              "      <td>44.6</td>\n",
              "      <td>-2.605366</td>\n",
              "    </tr>\n",
              "    <tr>\n",
              "      <th>24</th>\n",
              "      <td>2017</td>\n",
              "      <td>5</td>\n",
              "      <td>Mark Zuckerberg</td>\n",
              "      <td>56.0</td>\n",
              "      <td>32</td>\n",
              "      <td>United States</td>\n",
              "      <td>Facebook</td>\n",
              "      <td>2017</td>\n",
              "      <td>56</td>\n",
              "      <td>-2.532318</td>\n",
              "    </tr>\n",
              "    <tr>\n",
              "      <th>14</th>\n",
              "      <td>2018</td>\n",
              "      <td>5</td>\n",
              "      <td>Mark Zuckerberg</td>\n",
              "      <td>71.0</td>\n",
              "      <td>33</td>\n",
              "      <td>United States</td>\n",
              "      <td>Facebook</td>\n",
              "      <td>2018</td>\n",
              "      <td>71</td>\n",
              "      <td>-2.459270</td>\n",
              "    </tr>\n",
              "    <tr>\n",
              "      <th>7</th>\n",
              "      <td>2019</td>\n",
              "      <td>8</td>\n",
              "      <td>Mark Zuckerberg</td>\n",
              "      <td>62.3</td>\n",
              "      <td>34</td>\n",
              "      <td>United States</td>\n",
              "      <td>Facebook</td>\n",
              "      <td>2019</td>\n",
              "      <td>62.3</td>\n",
              "      <td>-2.386223</td>\n",
              "    </tr>\n",
              "    <tr>\n",
              "      <th>178</th>\n",
              "      <td>2002</td>\n",
              "      <td>9</td>\n",
              "      <td>Michael Dell</td>\n",
              "      <td>19.1</td>\n",
              "      <td>35</td>\n",
              "      <td>United States</td>\n",
              "      <td>Dell</td>\n",
              "      <td>2002</td>\n",
              "      <td>19.1</td>\n",
              "      <td>-2.313175</td>\n",
              "    </tr>\n",
              "    <tr>\n",
              "      <th>118</th>\n",
              "      <td>2008</td>\n",
              "      <td>9</td>\n",
              "      <td>Oleg Deripaska</td>\n",
              "      <td>28.0</td>\n",
              "      <td>40</td>\n",
              "      <td>Russia</td>\n",
              "      <td>Rusal</td>\n",
              "      <td>2008</td>\n",
              "      <td>28</td>\n",
              "      <td>-1.947937</td>\n",
              "    </tr>\n",
              "    <tr>\n",
              "      <th>177</th>\n",
              "      <td>2002</td>\n",
              "      <td>8</td>\n",
              "      <td>Masayoshi Son</td>\n",
              "      <td>19.4</td>\n",
              "      <td>43</td>\n",
              "      <td>Japan</td>\n",
              "      <td>Softbank Capital, SoftBank Mobile</td>\n",
              "      <td>2002</td>\n",
              "      <td>19.4</td>\n",
              "      <td>-1.728794</td>\n",
              "    </tr>\n",
              "    <tr>\n",
              "      <th>175</th>\n",
              "      <td>2002</td>\n",
              "      <td>6</td>\n",
              "      <td>Al-Waleed bin Talal</td>\n",
              "      <td>20.0</td>\n",
              "      <td>43</td>\n",
              "      <td>Saudi Arabia</td>\n",
              "      <td>Kingdom Holding Company</td>\n",
              "      <td>2002</td>\n",
              "      <td>20</td>\n",
              "      <td>-1.728794</td>\n",
              "    </tr>\n",
              "    <tr>\n",
              "      <th>170</th>\n",
              "      <td>2002</td>\n",
              "      <td>1</td>\n",
              "      <td>Bill Gates</td>\n",
              "      <td>60.0</td>\n",
              "      <td>44</td>\n",
              "      <td>United States</td>\n",
              "      <td>Microsoft</td>\n",
              "      <td>2002</td>\n",
              "      <td>60</td>\n",
              "      <td>-1.655746</td>\n",
              "    </tr>\n",
              "    <tr>\n",
              "      <th>9</th>\n",
              "      <td>2019</td>\n",
              "      <td>10</td>\n",
              "      <td>Larry Page</td>\n",
              "      <td>50.8</td>\n",
              "      <td>45</td>\n",
              "      <td>United States</td>\n",
              "      <td>Alphabet Inc.</td>\n",
              "      <td>2019</td>\n",
              "      <td>50.8</td>\n",
              "      <td>-1.582699</td>\n",
              "    </tr>\n",
              "  </tbody>\n",
              "</table>\n",
              "</div>"
            ],
            "text/plain": [
              "     year rank                 name  net_worth  age    nationality  \\\n",
              "35   2016    6      Mark Zuckerberg       44.6   31  United States   \n",
              "24   2017    5      Mark Zuckerberg       56.0   32  United States   \n",
              "14   2018    5      Mark Zuckerberg       71.0   33  United States   \n",
              "7    2019    8      Mark Zuckerberg       62.3   34  United States   \n",
              "178  2002    9         Michael Dell       19.1   35  United States   \n",
              "118  2008    9       Oleg Deripaska       28.0   40         Russia   \n",
              "177  2002    8        Masayoshi Son       19.4   43          Japan   \n",
              "175  2002    6  Al-Waleed bin Talal       20.0   43   Saudi Arabia   \n",
              "170  2002    1           Bill Gates       60.0   44  United States   \n",
              "9    2019   10           Larry Page       50.8   45  United States   \n",
              "\n",
              "                         source_wealth year_new new_worth   age_std  \n",
              "35                            Facebook     2016      44.6 -2.605366  \n",
              "24                            Facebook     2017        56 -2.532318  \n",
              "14                            Facebook     2018        71 -2.459270  \n",
              "7                             Facebook     2019      62.3 -2.386223  \n",
              "178                               Dell     2002      19.1 -2.313175  \n",
              "118                              Rusal     2008        28 -1.947937  \n",
              "177  Softbank Capital, SoftBank Mobile     2002      19.4 -1.728794  \n",
              "175            Kingdom Holding Company     2002        20 -1.728794  \n",
              "170                          Microsoft     2002        60 -1.655746  \n",
              "9                        Alphabet Inc.     2019      50.8 -1.582699  "
            ]
          },
          "metadata": {
            "tags": []
          },
          "execution_count": 164
        }
      ]
    },
    {
      "cell_type": "markdown",
      "metadata": {
        "id": "Vfy0btLAaT1k",
        "colab_type": "text"
      },
      "source": [
        "As a thumbrule, values that are more than 3 standard deviations away from the mean are considered as outliers. So there are no outliers in this case."
      ]
    },
    {
      "cell_type": "code",
      "metadata": {
        "id": "gP3kGdtma2fU",
        "colab_type": "code",
        "colab": {}
      },
      "source": [
        "# we take difference of values with mean and then divide by SD --> This give you average Devaition w.r.t mean/sd"
      ],
      "execution_count": 0,
      "outputs": []
    },
    {
      "cell_type": "code",
      "metadata": {
        "id": "jHCe0zarbwbH",
        "colab_type": "code",
        "colab": {
          "base_uri": "https://localhost:8080/",
          "height": 393
        },
        "outputId": "431c7287-1a6a-4cdd-d231-8f0cc482ff2f"
      },
      "source": [
        "data['age_std']=((data['age'] - data['age'].mean())/data['age'].std())\n",
        "data.sort_values(by='age_std').head(10)"
      ],
      "execution_count": 166,
      "outputs": [
        {
          "output_type": "execute_result",
          "data": {
            "text/html": [
              "<div>\n",
              "<style scoped>\n",
              "    .dataframe tbody tr th:only-of-type {\n",
              "        vertical-align: middle;\n",
              "    }\n",
              "\n",
              "    .dataframe tbody tr th {\n",
              "        vertical-align: top;\n",
              "    }\n",
              "\n",
              "    .dataframe thead th {\n",
              "        text-align: right;\n",
              "    }\n",
              "</style>\n",
              "<table border=\"1\" class=\"dataframe\">\n",
              "  <thead>\n",
              "    <tr style=\"text-align: right;\">\n",
              "      <th></th>\n",
              "      <th>year</th>\n",
              "      <th>rank</th>\n",
              "      <th>name</th>\n",
              "      <th>net_worth</th>\n",
              "      <th>age</th>\n",
              "      <th>nationality</th>\n",
              "      <th>source_wealth</th>\n",
              "      <th>year_new</th>\n",
              "      <th>new_worth</th>\n",
              "      <th>age_std</th>\n",
              "    </tr>\n",
              "  </thead>\n",
              "  <tbody>\n",
              "    <tr>\n",
              "      <th>35</th>\n",
              "      <td>2016</td>\n",
              "      <td>6</td>\n",
              "      <td>Mark Zuckerberg</td>\n",
              "      <td>44.6</td>\n",
              "      <td>31</td>\n",
              "      <td>United States</td>\n",
              "      <td>Facebook</td>\n",
              "      <td>2016</td>\n",
              "      <td>44.6</td>\n",
              "      <td>-2.605366</td>\n",
              "    </tr>\n",
              "    <tr>\n",
              "      <th>24</th>\n",
              "      <td>2017</td>\n",
              "      <td>5</td>\n",
              "      <td>Mark Zuckerberg</td>\n",
              "      <td>56.0</td>\n",
              "      <td>32</td>\n",
              "      <td>United States</td>\n",
              "      <td>Facebook</td>\n",
              "      <td>2017</td>\n",
              "      <td>56</td>\n",
              "      <td>-2.532318</td>\n",
              "    </tr>\n",
              "    <tr>\n",
              "      <th>14</th>\n",
              "      <td>2018</td>\n",
              "      <td>5</td>\n",
              "      <td>Mark Zuckerberg</td>\n",
              "      <td>71.0</td>\n",
              "      <td>33</td>\n",
              "      <td>United States</td>\n",
              "      <td>Facebook</td>\n",
              "      <td>2018</td>\n",
              "      <td>71</td>\n",
              "      <td>-2.459270</td>\n",
              "    </tr>\n",
              "    <tr>\n",
              "      <th>7</th>\n",
              "      <td>2019</td>\n",
              "      <td>8</td>\n",
              "      <td>Mark Zuckerberg</td>\n",
              "      <td>62.3</td>\n",
              "      <td>34</td>\n",
              "      <td>United States</td>\n",
              "      <td>Facebook</td>\n",
              "      <td>2019</td>\n",
              "      <td>62.3</td>\n",
              "      <td>-2.386223</td>\n",
              "    </tr>\n",
              "    <tr>\n",
              "      <th>178</th>\n",
              "      <td>2002</td>\n",
              "      <td>9</td>\n",
              "      <td>Michael Dell</td>\n",
              "      <td>19.1</td>\n",
              "      <td>35</td>\n",
              "      <td>United States</td>\n",
              "      <td>Dell</td>\n",
              "      <td>2002</td>\n",
              "      <td>19.1</td>\n",
              "      <td>-2.313175</td>\n",
              "    </tr>\n",
              "    <tr>\n",
              "      <th>118</th>\n",
              "      <td>2008</td>\n",
              "      <td>9</td>\n",
              "      <td>Oleg Deripaska</td>\n",
              "      <td>28.0</td>\n",
              "      <td>40</td>\n",
              "      <td>Russia</td>\n",
              "      <td>Rusal</td>\n",
              "      <td>2008</td>\n",
              "      <td>28</td>\n",
              "      <td>-1.947937</td>\n",
              "    </tr>\n",
              "    <tr>\n",
              "      <th>177</th>\n",
              "      <td>2002</td>\n",
              "      <td>8</td>\n",
              "      <td>Masayoshi Son</td>\n",
              "      <td>19.4</td>\n",
              "      <td>43</td>\n",
              "      <td>Japan</td>\n",
              "      <td>Softbank Capital, SoftBank Mobile</td>\n",
              "      <td>2002</td>\n",
              "      <td>19.4</td>\n",
              "      <td>-1.728794</td>\n",
              "    </tr>\n",
              "    <tr>\n",
              "      <th>175</th>\n",
              "      <td>2002</td>\n",
              "      <td>6</td>\n",
              "      <td>Al-Waleed bin Talal</td>\n",
              "      <td>20.0</td>\n",
              "      <td>43</td>\n",
              "      <td>Saudi Arabia</td>\n",
              "      <td>Kingdom Holding Company</td>\n",
              "      <td>2002</td>\n",
              "      <td>20</td>\n",
              "      <td>-1.728794</td>\n",
              "    </tr>\n",
              "    <tr>\n",
              "      <th>170</th>\n",
              "      <td>2002</td>\n",
              "      <td>1</td>\n",
              "      <td>Bill Gates</td>\n",
              "      <td>60.0</td>\n",
              "      <td>44</td>\n",
              "      <td>United States</td>\n",
              "      <td>Microsoft</td>\n",
              "      <td>2002</td>\n",
              "      <td>60</td>\n",
              "      <td>-1.655746</td>\n",
              "    </tr>\n",
              "    <tr>\n",
              "      <th>9</th>\n",
              "      <td>2019</td>\n",
              "      <td>10</td>\n",
              "      <td>Larry Page</td>\n",
              "      <td>50.8</td>\n",
              "      <td>45</td>\n",
              "      <td>United States</td>\n",
              "      <td>Alphabet Inc.</td>\n",
              "      <td>2019</td>\n",
              "      <td>50.8</td>\n",
              "      <td>-1.582699</td>\n",
              "    </tr>\n",
              "  </tbody>\n",
              "</table>\n",
              "</div>"
            ],
            "text/plain": [
              "     year rank                 name  net_worth  age    nationality  \\\n",
              "35   2016    6      Mark Zuckerberg       44.6   31  United States   \n",
              "24   2017    5      Mark Zuckerberg       56.0   32  United States   \n",
              "14   2018    5      Mark Zuckerberg       71.0   33  United States   \n",
              "7    2019    8      Mark Zuckerberg       62.3   34  United States   \n",
              "178  2002    9         Michael Dell       19.1   35  United States   \n",
              "118  2008    9       Oleg Deripaska       28.0   40         Russia   \n",
              "177  2002    8        Masayoshi Son       19.4   43          Japan   \n",
              "175  2002    6  Al-Waleed bin Talal       20.0   43   Saudi Arabia   \n",
              "170  2002    1           Bill Gates       60.0   44  United States   \n",
              "9    2019   10           Larry Page       50.8   45  United States   \n",
              "\n",
              "                         source_wealth year_new new_worth   age_std  \n",
              "35                            Facebook     2016      44.6 -2.605366  \n",
              "24                            Facebook     2017        56 -2.532318  \n",
              "14                            Facebook     2018        71 -2.459270  \n",
              "7                             Facebook     2019      62.3 -2.386223  \n",
              "178                               Dell     2002      19.1 -2.313175  \n",
              "118                              Rusal     2008        28 -1.947937  \n",
              "177  Softbank Capital, SoftBank Mobile     2002      19.4 -1.728794  \n",
              "175            Kingdom Holding Company     2002        20 -1.728794  \n",
              "170                          Microsoft     2002        60 -1.655746  \n",
              "9                        Alphabet Inc.     2019      50.8 -1.582699  "
            ]
          },
          "metadata": {
            "tags": []
          },
          "execution_count": 166
        }
      ]
    },
    {
      "cell_type": "code",
      "metadata": {
        "id": "HdDi67LSdZ4U",
        "colab_type": "code",
        "colab": {
          "base_uri": "https://localhost:8080/",
          "height": 427
        },
        "outputId": "8922a9b6-736c-4004-950e-5758c1ac4e3f"
      },
      "source": [
        "data['net_worth_std']=((data['net_worth'] - data['net_worth'].mean())/data['net_worth'].std())\n",
        "data.sort_values(by='net_worth_std', ascending=False).head(10)"
      ],
      "execution_count": 167,
      "outputs": [
        {
          "output_type": "execute_result",
          "data": {
            "text/html": [
              "<div>\n",
              "<style scoped>\n",
              "    .dataframe tbody tr th:only-of-type {\n",
              "        vertical-align: middle;\n",
              "    }\n",
              "\n",
              "    .dataframe tbody tr th {\n",
              "        vertical-align: top;\n",
              "    }\n",
              "\n",
              "    .dataframe thead th {\n",
              "        text-align: right;\n",
              "    }\n",
              "</style>\n",
              "<table border=\"1\" class=\"dataframe\">\n",
              "  <thead>\n",
              "    <tr style=\"text-align: right;\">\n",
              "      <th></th>\n",
              "      <th>year</th>\n",
              "      <th>rank</th>\n",
              "      <th>name</th>\n",
              "      <th>net_worth</th>\n",
              "      <th>age</th>\n",
              "      <th>nationality</th>\n",
              "      <th>source_wealth</th>\n",
              "      <th>year_new</th>\n",
              "      <th>new_worth</th>\n",
              "      <th>age_std</th>\n",
              "      <th>net_worth_std</th>\n",
              "    </tr>\n",
              "  </thead>\n",
              "  <tbody>\n",
              "    <tr>\n",
              "      <th>0</th>\n",
              "      <td>2019</td>\n",
              "      <td>1</td>\n",
              "      <td>Jeff Bezos</td>\n",
              "      <td>131.0</td>\n",
              "      <td>55</td>\n",
              "      <td>United States</td>\n",
              "      <td>Amazon</td>\n",
              "      <td>2019</td>\n",
              "      <td>131</td>\n",
              "      <td>-0.852222</td>\n",
              "      <td>4.278684</td>\n",
              "    </tr>\n",
              "    <tr>\n",
              "      <th>10</th>\n",
              "      <td>2018</td>\n",
              "      <td>1</td>\n",
              "      <td>Jeff Bezos</td>\n",
              "      <td>112.0</td>\n",
              "      <td>54</td>\n",
              "      <td>United States</td>\n",
              "      <td>Amazon</td>\n",
              "      <td>2018</td>\n",
              "      <td>112</td>\n",
              "      <td>-0.925270</td>\n",
              "      <td>3.361559</td>\n",
              "    </tr>\n",
              "    <tr>\n",
              "      <th>1</th>\n",
              "      <td>2019</td>\n",
              "      <td>2</td>\n",
              "      <td>Bill Gates</td>\n",
              "      <td>96.5</td>\n",
              "      <td>63</td>\n",
              "      <td>United States</td>\n",
              "      <td>Microsoft</td>\n",
              "      <td>2019</td>\n",
              "      <td>96.5</td>\n",
              "      <td>-0.267841</td>\n",
              "      <td>2.613378</td>\n",
              "    </tr>\n",
              "    <tr>\n",
              "      <th>11</th>\n",
              "      <td>2018</td>\n",
              "      <td>2</td>\n",
              "      <td>Bill Gates</td>\n",
              "      <td>90.0</td>\n",
              "      <td>62</td>\n",
              "      <td>United States</td>\n",
              "      <td>Microsoft</td>\n",
              "      <td>2018</td>\n",
              "      <td>90</td>\n",
              "      <td>-0.340889</td>\n",
              "      <td>2.299624</td>\n",
              "    </tr>\n",
              "    <tr>\n",
              "      <th>20</th>\n",
              "      <td>2017</td>\n",
              "      <td>1</td>\n",
              "      <td>Bill Gates</td>\n",
              "      <td>86.0</td>\n",
              "      <td>61</td>\n",
              "      <td>United States</td>\n",
              "      <td>Microsoft</td>\n",
              "      <td>2017</td>\n",
              "      <td>86</td>\n",
              "      <td>-0.413937</td>\n",
              "      <td>2.106545</td>\n",
              "    </tr>\n",
              "    <tr>\n",
              "      <th>12</th>\n",
              "      <td>2018</td>\n",
              "      <td>3</td>\n",
              "      <td>Warren Buffett</td>\n",
              "      <td>84.0</td>\n",
              "      <td>87</td>\n",
              "      <td>United States</td>\n",
              "      <td>Berkshire Hathaway</td>\n",
              "      <td>2018</td>\n",
              "      <td>84</td>\n",
              "      <td>1.485302</td>\n",
              "      <td>2.010006</td>\n",
              "    </tr>\n",
              "    <tr>\n",
              "      <th>2</th>\n",
              "      <td>2019</td>\n",
              "      <td>3</td>\n",
              "      <td>Warren Buffett</td>\n",
              "      <td>82.5</td>\n",
              "      <td>88</td>\n",
              "      <td>United States</td>\n",
              "      <td>Berkshire Hathaway</td>\n",
              "      <td>2019</td>\n",
              "      <td>82.5</td>\n",
              "      <td>1.558349</td>\n",
              "      <td>1.937601</td>\n",
              "    </tr>\n",
              "    <tr>\n",
              "      <th>40</th>\n",
              "      <td>2015</td>\n",
              "      <td>1</td>\n",
              "      <td>Bill Gates</td>\n",
              "      <td>79.2</td>\n",
              "      <td>59</td>\n",
              "      <td>United States</td>\n",
              "      <td>Microsoft</td>\n",
              "      <td>2015</td>\n",
              "      <td>79.2</td>\n",
              "      <td>-0.560032</td>\n",
              "      <td>1.778311</td>\n",
              "    </tr>\n",
              "    <tr>\n",
              "      <th>41</th>\n",
              "      <td>2015</td>\n",
              "      <td>2</td>\n",
              "      <td>Carlos Slim</td>\n",
              "      <td>77.1</td>\n",
              "      <td>75</td>\n",
              "      <td>Mexico</td>\n",
              "      <td>América Móvil, Telmex, Grupo Carso</td>\n",
              "      <td>2015</td>\n",
              "      <td>77.1</td>\n",
              "      <td>0.608730</td>\n",
              "      <td>1.676945</td>\n",
              "    </tr>\n",
              "    <tr>\n",
              "      <th>3</th>\n",
              "      <td>2019</td>\n",
              "      <td>4</td>\n",
              "      <td>Bernard Arnault</td>\n",
              "      <td>76.0</td>\n",
              "      <td>70</td>\n",
              "      <td>France</td>\n",
              "      <td>LVMH</td>\n",
              "      <td>2019</td>\n",
              "      <td>76</td>\n",
              "      <td>0.243492</td>\n",
              "      <td>1.623848</td>\n",
              "    </tr>\n",
              "  </tbody>\n",
              "</table>\n",
              "</div>"
            ],
            "text/plain": [
              "    year rank             name  net_worth  age    nationality  \\\n",
              "0   2019    1       Jeff Bezos      131.0   55  United States   \n",
              "10  2018    1       Jeff Bezos      112.0   54  United States   \n",
              "1   2019    2       Bill Gates       96.5   63  United States   \n",
              "11  2018    2       Bill Gates       90.0   62  United States   \n",
              "20  2017    1       Bill Gates       86.0   61  United States   \n",
              "12  2018    3   Warren Buffett       84.0   87  United States   \n",
              "2   2019    3   Warren Buffett       82.5   88  United States   \n",
              "40  2015    1       Bill Gates       79.2   59  United States   \n",
              "41  2015    2      Carlos Slim       77.1   75         Mexico   \n",
              "3   2019    4  Bernard Arnault       76.0   70         France   \n",
              "\n",
              "                         source_wealth year_new new_worth   age_std  \\\n",
              "0                               Amazon     2019       131 -0.852222   \n",
              "10                              Amazon     2018       112 -0.925270   \n",
              "1                            Microsoft     2019      96.5 -0.267841   \n",
              "11                           Microsoft     2018        90 -0.340889   \n",
              "20                           Microsoft     2017        86 -0.413937   \n",
              "12                  Berkshire Hathaway     2018        84  1.485302   \n",
              "2                   Berkshire Hathaway     2019      82.5  1.558349   \n",
              "40                           Microsoft     2015      79.2 -0.560032   \n",
              "41  América Móvil, Telmex, Grupo Carso     2015      77.1  0.608730   \n",
              "3                                 LVMH     2019        76  0.243492   \n",
              "\n",
              "    net_worth_std  \n",
              "0        4.278684  \n",
              "10       3.361559  \n",
              "1        2.613378  \n",
              "11       2.299624  \n",
              "20       2.106545  \n",
              "12       2.010006  \n",
              "2        1.937601  \n",
              "40       1.778311  \n",
              "41       1.676945  \n",
              "3        1.623848  "
            ]
          },
          "metadata": {
            "tags": []
          },
          "execution_count": 167
        }
      ]
    },
    {
      "cell_type": "markdown",
      "metadata": {
        "id": "4_kyjPZDdY7o",
        "colab_type": "text"
      },
      "source": [
        "So the top person here can be considered as outlier as far as net worth is considered meaning thereby Jeff Bezos in the year 2018 and 2019 was <i> super rich </i>, i.e. way more rich even as compared to the rich. "
      ]
    }
  ]
}